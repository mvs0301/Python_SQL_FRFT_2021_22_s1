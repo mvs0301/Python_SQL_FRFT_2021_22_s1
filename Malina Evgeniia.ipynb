{
 "cells": [
  {
   "cell_type": "code",
   "execution_count": 1,
   "metadata": {},
   "outputs": [],
   "source": [
    "# Реляционная база данных, отражающая финансово-экономическую деятельность предприятия корейской косметики."
   ]
  },
  {
   "cell_type": "markdown",
   "metadata": {},
   "source": [
    "# Малина Евгения\n",
    "### Группа ФРФТ20-1"
   ]
  },
  {
   "cell_type": "markdown",
   "metadata": {},
   "source": [
    "### Создание реляционной базы данных."
   ]
  },
  {
   "cell_type": "code",
   "execution_count": 2,
   "metadata": {},
   "outputs": [],
   "source": [
    "import sqlalchemy\n",
    "from sqlalchemy import create_engine\n",
    "\n",
    "engine = create_engine('sqlite:///cosmetic_shop.db')"
   ]
  },
  {
   "cell_type": "code",
   "execution_count": 3,
   "metadata": {},
   "outputs": [],
   "source": [
    "import pandas as pd"
   ]
  },
  {
   "cell_type": "code",
   "execution_count": 4,
   "metadata": {},
   "outputs": [
    {
     "data": {
      "text/html": [
       "<div>\n",
       "<style scoped>\n",
       "    .dataframe tbody tr th:only-of-type {\n",
       "        vertical-align: middle;\n",
       "    }\n",
       "\n",
       "    .dataframe tbody tr th {\n",
       "        vertical-align: top;\n",
       "    }\n",
       "\n",
       "    .dataframe thead th {\n",
       "        text-align: right;\n",
       "    }\n",
       "</style>\n",
       "<table border=\"1\" class=\"dataframe\">\n",
       "  <thead>\n",
       "    <tr style=\"text-align: right;\">\n",
       "      <th></th>\n",
       "      <th>En</th>\n",
       "      <th>Ru</th>\n",
       "      <th>Тип данных</th>\n",
       "    </tr>\n",
       "  </thead>\n",
       "  <tbody>\n",
       "    <tr>\n",
       "      <th>0</th>\n",
       "      <td>user_id</td>\n",
       "      <td>идентификатор клиента</td>\n",
       "      <td>Integer</td>\n",
       "    </tr>\n",
       "    <tr>\n",
       "      <th>1</th>\n",
       "      <td>order_id</td>\n",
       "      <td>идентификатор заказа</td>\n",
       "      <td>Integer</td>\n",
       "    </tr>\n",
       "    <tr>\n",
       "      <th>2</th>\n",
       "      <td>good_id</td>\n",
       "      <td>идентификатор товара</td>\n",
       "      <td>Integer</td>\n",
       "    </tr>\n",
       "    <tr>\n",
       "      <th>3</th>\n",
       "      <td>supplier_id</td>\n",
       "      <td>идентификатор поставщика</td>\n",
       "      <td>Integer</td>\n",
       "    </tr>\n",
       "    <tr>\n",
       "      <th>4</th>\n",
       "      <td>shipment_id</td>\n",
       "      <td>идентификатор поставки</td>\n",
       "      <td>Integer</td>\n",
       "    </tr>\n",
       "    <tr>\n",
       "      <th>5</th>\n",
       "      <td>user_name</td>\n",
       "      <td>ФИО клиента</td>\n",
       "      <td>String</td>\n",
       "    </tr>\n",
       "    <tr>\n",
       "      <th>6</th>\n",
       "      <td>good_name</td>\n",
       "      <td>наименование товара</td>\n",
       "      <td>String</td>\n",
       "    </tr>\n",
       "    <tr>\n",
       "      <th>7</th>\n",
       "      <td>company_name</td>\n",
       "      <td>название предприятия-поставщика</td>\n",
       "      <td>String</td>\n",
       "    </tr>\n",
       "    <tr>\n",
       "      <th>8</th>\n",
       "      <td>user_email_address</td>\n",
       "      <td>электронная почта клиента</td>\n",
       "      <td>String</td>\n",
       "    </tr>\n",
       "    <tr>\n",
       "      <th>9</th>\n",
       "      <td>supplier_email_address</td>\n",
       "      <td>электронная почта поставщика</td>\n",
       "      <td>String</td>\n",
       "    </tr>\n",
       "    <tr>\n",
       "      <th>10</th>\n",
       "      <td>order_date</td>\n",
       "      <td>дата заказа</td>\n",
       "      <td>DateTime</td>\n",
       "    </tr>\n",
       "    <tr>\n",
       "      <th>11</th>\n",
       "      <td>delivery_date</td>\n",
       "      <td>дата доставки</td>\n",
       "      <td>DateTime</td>\n",
       "    </tr>\n",
       "    <tr>\n",
       "      <th>12</th>\n",
       "      <td>shipment_date</td>\n",
       "      <td>дата поставки</td>\n",
       "      <td>DateTime</td>\n",
       "    </tr>\n",
       "    <tr>\n",
       "      <th>13</th>\n",
       "      <td>place_shipment</td>\n",
       "      <td>место поставки</td>\n",
       "      <td>String</td>\n",
       "    </tr>\n",
       "    <tr>\n",
       "      <th>14</th>\n",
       "      <td>specialization</td>\n",
       "      <td>специализация предприятия-поставщика</td>\n",
       "      <td>String</td>\n",
       "    </tr>\n",
       "    <tr>\n",
       "      <th>15</th>\n",
       "      <td>phone_number</td>\n",
       "      <td>номер телефона клиента</td>\n",
       "      <td>String</td>\n",
       "    </tr>\n",
       "    <tr>\n",
       "      <th>16</th>\n",
       "      <td>user_birthday</td>\n",
       "      <td>день рождения клиента</td>\n",
       "      <td>DateTime</td>\n",
       "    </tr>\n",
       "    <tr>\n",
       "      <th>17</th>\n",
       "      <td>good_price</td>\n",
       "      <td>цена товара</td>\n",
       "      <td>Numeric</td>\n",
       "    </tr>\n",
       "    <tr>\n",
       "      <th>18</th>\n",
       "      <td>order_price</td>\n",
       "      <td>стоимость заказа</td>\n",
       "      <td>Numeric</td>\n",
       "    </tr>\n",
       "    <tr>\n",
       "      <th>19</th>\n",
       "      <td>brand</td>\n",
       "      <td>бренд</td>\n",
       "      <td>String</td>\n",
       "    </tr>\n",
       "    <tr>\n",
       "      <th>20</th>\n",
       "      <td>shelf_life</td>\n",
       "      <td>срок годности товара</td>\n",
       "      <td>DateTime</td>\n",
       "    </tr>\n",
       "  </tbody>\n",
       "</table>\n",
       "</div>"
      ],
      "text/plain": [
       "                        En                                    Ru Тип данных\n",
       "0                  user_id                 идентификатор клиента    Integer\n",
       "1                 order_id                  идентификатор заказа    Integer\n",
       "2                  good_id                  идентификатор товара    Integer\n",
       "3              supplier_id              идентификатор поставщика    Integer\n",
       "4              shipment_id                идентификатор поставки    Integer\n",
       "5                user_name                           ФИО клиента     String\n",
       "6                good_name                   наименование товара     String\n",
       "7             company_name       название предприятия-поставщика     String\n",
       "8       user_email_address             электронная почта клиента     String\n",
       "9   supplier_email_address          электронная почта поставщика     String\n",
       "10              order_date                           дата заказа   DateTime\n",
       "11           delivery_date                         дата доставки   DateTime\n",
       "12           shipment_date                         дата поставки   DateTime\n",
       "13          place_shipment                        место поставки     String\n",
       "14          specialization  специализация предприятия-поставщика     String\n",
       "15            phone_number                номер телефона клиента     String\n",
       "16           user_birthday                 день рождения клиента   DateTime\n",
       "17              good_price                           цена товара    Numeric\n",
       "18             order_price                      стоимость заказа    Numeric\n",
       "19                   brand                                 бренд     String\n",
       "20              shelf_life                  срок годности товара   DateTime"
      ]
     },
     "execution_count": 4,
     "metadata": {},
     "output_type": "execute_result"
    }
   ],
   "source": [
    "pd.DataFrame({'En':['user_id','order_id','good_id','supplier_id','shipment_id',\n",
    "                    'user_name','good_name','company_name',\n",
    "                    'user_email_address','supplier_email_address', \n",
    "                    'order_date','delivery_date','shipment_date', \n",
    "                    'place_shipment','specialization', \n",
    "                    'phone_number','user_birthday',\n",
    "                    'good_price','order_price','brand','shelf_life'],\n",
    "            'Ru':['идентификатор клиента','идентификатор заказа','идентификатор товара','идентификатор поставщика','идентификатор поставки', \n",
    "                  'ФИО клиента','наименование товара','название предприятия-поставщика',\n",
    "                  'электронная почта клиента','электронная почта поставщика', \n",
    "                  'дата заказа','дата доставки','дата поставки',\n",
    "                  'место поставки','специализация предприятия-поставщика',\n",
    "                  'номер телефона клиента','день рождения клиента',\n",
    "                  'цена товара','стоимость заказа','бренд','срок годности товара'],\n",
    "            'Тип данных':[ 'Integer','Integer','Integer','Integer','Integer',\n",
    "                           'String','String','String',\n",
    "                           'String','String',\n",
    "                           'DateTime','DateTime','DateTime',\n",
    "                           'String','String',\n",
    "                           'String','DateTime',\n",
    "                           'Numeric','Numeric','String', 'DateTime']})\n"
   ]
  },
  {
   "cell_type": "code",
   "execution_count": 5,
   "metadata": {},
   "outputs": [],
   "source": [
    "from sqlalchemy import MetaData\n",
    "metadata = MetaData()"
   ]
  },
  {
   "cell_type": "code",
   "execution_count": 6,
   "metadata": {},
   "outputs": [],
   "source": [
    "from sqlalchemy import (MetaData, Table, Column, Integer, Numeric, String, DateTime, \n",
    "                        Boolean, ForeignKey, create_engine, PrimaryKeyConstraint, \n",
    "                        UniqueConstraint, CheckConstraint, ForeignKeyConstraint,\n",
    "                        Index, insert, BigInteger)"
   ]
  },
  {
   "cell_type": "code",
   "execution_count": 7,
   "metadata": {},
   "outputs": [],
   "source": [
    "import numpy as np\n",
    "from datetime import datetime"
   ]
  },
  {
   "cell_type": "code",
   "execution_count": 8,
   "metadata": {},
   "outputs": [],
   "source": [
    "users=Table('users',metadata,\n",
    "            Column('user_id',Integer(),primary_key=True),\n",
    "            Column('user_name',String(),nullable=False,unique=True),\n",
    "            Column('user_email_address',String(255),nullable=False),\n",
    "            Column('phone_number',String(20),nullable=False),\n",
    "            Column('user_birthday',DateTime()),\n",
    "            extend_existing=True\n",
    "            )"
   ]
  },
  {
   "cell_type": "code",
   "execution_count": 9,
   "metadata": {},
   "outputs": [],
   "source": [
    "orders = Table('orders', metadata,\n",
    "               Column('order_id',Integer(),primary_key=True),\n",
    "               Column('user_id',ForeignKey('users.user_id')),\n",
    "               Column('order_date',DateTime()),\n",
    "               Column('delivery_date',DateTime()),\n",
    "               Column('order_price',Numeric()),\n",
    "               Column('good_id',ForeignKey('goods.good_id')),\n",
    "               extend_existing=True\n",
    "               )"
   ]
  },
  {
   "cell_type": "code",
   "execution_count": 10,
   "metadata": {},
   "outputs": [],
   "source": [
    "goods = Table('goods', metadata,\n",
    "              Column('good_id',Integer(),primary_key=True),\n",
    "              Column('good_name',String(),nullable=False),\n",
    "              Column('good_price',Numeric()),\n",
    "              Column('brand',String(35),nullable=False,unique=True),\n",
    "              Column('shelf_life',DateTime()),\n",
    "              extend_existing=True\n",
    "              )"
   ]
  },
  {
   "cell_type": "code",
   "execution_count": 11,
   "metadata": {},
   "outputs": [],
   "source": [
    "shipments = Table('shipments', metadata,\n",
    "                Column('shipment_id',Integer(),primary_key=True),\n",
    "                Column('good_id',ForeignKey('goods.good_id')),\n",
    "                Column('supplier_id',ForeignKey('suppliers.supplier_id')),\n",
    "                Column('shipment_date',DateTime()),\n",
    "                Column('place_shipment',String(255),nullable=False),\n",
    "                extend_existing=True\n",
    "                )"
   ]
  },
  {
   "cell_type": "code",
   "execution_count": 12,
   "metadata": {},
   "outputs": [],
   "source": [
    "suppliers = Table('suppliers', metadata,\n",
    "                  Column('supplier_id',Integer(),primary_key=True),\n",
    "                  Column('company_name',String(45),nullable=False,unique=True),\n",
    "                  Column('specialization',String(),nullable=False),\n",
    "                  Column('supplier_email_address',String(255),nullable=False),\n",
    "                  extend_existing=True\n",
    "                  )"
   ]
  },
  {
   "cell_type": "code",
   "execution_count": 13,
   "metadata": {},
   "outputs": [],
   "source": [
    "metadata.create_all(engine)"
   ]
  },
  {
   "cell_type": "markdown",
   "metadata": {},
   "source": [
    "### Наполнение созданной реляционной базы данных."
   ]
  },
  {
   "cell_type": "markdown",
   "metadata": {},
   "source": [
    "#### а)техника одиночной вставки"
   ]
  },
  {
   "cell_type": "code",
   "execution_count": 14,
   "metadata": {},
   "outputs": [],
   "source": [
    "# Первый клиент"
   ]
  },
  {
   "cell_type": "code",
   "execution_count": 15,
   "metadata": {},
   "outputs": [],
   "source": [
    "filling1=users.insert().values(\n",
    "         user_id=10001,\n",
    "         user_name='Березуцкая Елизавета Андреевна',\n",
    "         user_email_address='berez.elizavetik27@gmail.com',\n",
    "         phone_number= '89161231547',\n",
    "         user_birthday=datetime.strptime('2003-03-18','%Y-%m-%d')\n",
    ")        "
   ]
  },
  {
   "cell_type": "code",
   "execution_count": 16,
   "metadata": {},
   "outputs": [],
   "source": [
    "filling2=orders.insert().values(\n",
    "         order_id=999,\n",
    "         user_id=10001,\n",
    "         order_date=datetime.strptime('2021-08-18','%Y-%m-%d'),\n",
    "         delivery_date=datetime.strptime('2021-08-25','%Y-%m-%d'),\n",
    "         order_price=1999.99,\n",
    "         good_id=1\n",
    ")"
   ]
  },
  {
   "cell_type": "code",
   "execution_count": 17,
   "metadata": {},
   "outputs": [],
   "source": [
    "filling3=goods.insert().values(\n",
    "         good_id=1,\n",
    "         good_name='тушь',\n",
    "         good_price=1999.99,\n",
    "         brand='Korean bullseye',\n",
    "         shelf_life=datetime.strptime('2023-01-01','%Y-%m-%d')\n",
    ")"
   ]
  },
  {
   "cell_type": "code",
   "execution_count": 18,
   "metadata": {},
   "outputs": [],
   "source": [
    "filling4=shipments.insert().values(\n",
    "         shipment_id=123,\n",
    "         good_id=1,\n",
    "         supplier_id=888111,\n",
    "         shipment_date=datetime.strptime('2021-08-20','%Y-%m-%d'),\n",
    "         place_shipment='Москва.Улица Керченская 1'\n",
    ")"
   ]
  },
  {
   "cell_type": "code",
   "execution_count": 19,
   "metadata": {},
   "outputs": [],
   "source": [
    "filling5=suppliers.insert().values(\n",
    "         supplier_id=888111,\n",
    "         company_name='Бутик номер 1',\n",
    "         specialization='Производство декоративной косметики',\n",
    "         supplier_email_address='butik.01@gmail.com'\n",
    ")"
   ]
  },
  {
   "cell_type": "code",
   "execution_count": 20,
   "metadata": {},
   "outputs": [],
   "source": [
    "connection=engine.connect()\n",
    "result=connection.execute(filling1)\n",
    "result=connection.execute(filling2)\n",
    "result=connection.execute(filling3)\n",
    "result=connection.execute(filling4)\n",
    "result=connection.execute(filling5)"
   ]
  },
  {
   "cell_type": "code",
   "execution_count": 21,
   "metadata": {},
   "outputs": [],
   "source": [
    "# Второй клиент"
   ]
  },
  {
   "cell_type": "code",
   "execution_count": 22,
   "metadata": {},
   "outputs": [],
   "source": [
    "filling6=users.insert().values(\n",
    "         user_id=10002,\n",
    "         user_name='Василин Сергей Павлович',\n",
    "         user_email_address='vasilin.sergei56@gmail.com',\n",
    "         phone_number= '89051234560',\n",
    "         user_birthday=datetime.strptime('1972-02-10','%Y-%m-%d')\n",
    ")"
   ]
  },
  {
   "cell_type": "code",
   "execution_count": 23,
   "metadata": {},
   "outputs": [],
   "source": [
    "filling7=orders.insert().values(\n",
    "         order_id=998,\n",
    "         user_id=10002,\n",
    "         order_date=datetime.strptime('2021-05-20','%Y-%m-%d'),\n",
    "         delivery_date=datetime.strptime('2021-06-05','%Y-%m-%d'),\n",
    "         order_price=299.99,\n",
    "         good_id=47\n",
    ")"
   ]
  },
  {
   "cell_type": "code",
   "execution_count": 24,
   "metadata": {},
   "outputs": [],
   "source": [
    "filling8=goods.insert().values(\n",
    "         good_id=47,\n",
    "         good_name='керотиновый шампунь',\n",
    "         good_price=299.99,\n",
    "         brand='Blossom',\n",
    "         shelf_life=datetime.strptime('2022-03-03','%Y-%m-%d')\n",
    ")"
   ]
  },
  {
   "cell_type": "code",
   "execution_count": 25,
   "metadata": {},
   "outputs": [],
   "source": [
    "filling9=shipments.insert().values(\n",
    "         shipment_id=124,\n",
    "         good_id=47,\n",
    "         supplier_id=888222,\n",
    "         shipment_date=datetime.strptime('2021-05-27','%Y-%m-%d'),\n",
    "         place_shipment='Москва.Улица Никольская 3'\n",
    ")"
   ]
  },
  {
   "cell_type": "code",
   "execution_count": 26,
   "metadata": {},
   "outputs": [],
   "source": [
    "filling10=suppliers.insert().values(\n",
    "         supplier_id=888222,\n",
    "         company_name='Бутик номер 2',\n",
    "         specialization='Производство лечебной косметики',\n",
    "         supplier_email_address='butik.02@gmail.com'\n",
    ")"
   ]
  },
  {
   "cell_type": "code",
   "execution_count": 27,
   "metadata": {},
   "outputs": [],
   "source": [
    "connection1=engine.connect()\n",
    "result=connection.execute(filling6)\n",
    "result=connection.execute(filling7)\n",
    "result=connection.execute(filling8)\n",
    "result=connection.execute(filling9)\n",
    "result=connection.execute(filling10)"
   ]
  },
  {
   "cell_type": "code",
   "execution_count": 28,
   "metadata": {},
   "outputs": [],
   "source": [
    "# Третий клиент"
   ]
  },
  {
   "cell_type": "code",
   "execution_count": 29,
   "metadata": {},
   "outputs": [],
   "source": [
    "filling11=users.insert().values(\n",
    "         user_id=10003,\n",
    "         user_name='Киселёва Александра Максимовна',\n",
    "         user_email_address='kiselek.love.alex22gmail.com',\n",
    "         phone_number= '89013795560',\n",
    "         user_birthday=datetime.strptime('1998-09-18','%Y-%m-%d')\n",
    ")"
   ]
  },
  {
   "cell_type": "code",
   "execution_count": 30,
   "metadata": {},
   "outputs": [],
   "source": [
    "filling12=orders.insert().values(\n",
    "         order_id=997,\n",
    "         user_id=10003,\n",
    "         order_date=datetime.strptime('2021-01-15','%Y-%m-%d'),\n",
    "         delivery_date=datetime.strptime('2021-01-29','%Y-%m-%d'),\n",
    "         order_price=999.99,\n",
    "         good_id=108\n",
    ")"
   ]
  },
  {
   "cell_type": "code",
   "execution_count": 31,
   "metadata": {},
   "outputs": [],
   "source": [
    "filling13=goods.insert().values(\n",
    "         good_id=108,\n",
    "         good_name='витаминная сыворотка',\n",
    "         good_price=999.99,\n",
    "         brand='Boss',\n",
    "         shelf_life=datetime.strptime('2024-05-05','%Y-%m-%d')\n",
    ")"
   ]
  },
  {
   "cell_type": "code",
   "execution_count": 32,
   "metadata": {},
   "outputs": [],
   "source": [
    "filling14=shipments.insert().values(\n",
    "         shipment_id=125,\n",
    "         good_id=108,\n",
    "         supplier_id=888333,\n",
    "         shipment_date=datetime.strptime('2021-01-22','%Y-%m-%d'),\n",
    "         place_shipment='Москва.Улица Лётчика Бабушкина 2'\n",
    ")"
   ]
  },
  {
   "cell_type": "code",
   "execution_count": 33,
   "metadata": {},
   "outputs": [],
   "source": [
    "filling15=suppliers.insert().values(\n",
    "         supplier_id=888333,\n",
    "         company_name='Бутик номер 3',\n",
    "         specialization='Производство гигиенической косметики',\n",
    "         supplier_email_address='butik.03@gmail.com'\n",
    ")"
   ]
  },
  {
   "cell_type": "code",
   "execution_count": 34,
   "metadata": {},
   "outputs": [],
   "source": [
    "connection2=engine.connect()\n",
    "result=connection.execute(filling11)\n",
    "result=connection.execute(filling12)\n",
    "result=connection.execute(filling13)\n",
    "result=connection.execute(filling14)\n",
    "result=connection.execute(filling15)"
   ]
  },
  {
   "cell_type": "markdown",
   "metadata": {},
   "source": [
    "#### б)множественная вставка из словаря"
   ]
  },
  {
   "cell_type": "code",
   "execution_count": 35,
   "metadata": {},
   "outputs": [],
   "source": [
    "# Четвёртый-шестой клиенты"
   ]
  },
  {
   "cell_type": "code",
   "execution_count": 36,
   "metadata": {},
   "outputs": [],
   "source": [
    "filling16=users.insert()\n",
    "F=[\n",
    "    {'user_id':10004,\n",
    "     'user_name':'Мельникова Татьяна Геннадьевна',\n",
    "     'user_email_address':'melnik.111@gmail.com',\n",
    "     'phone_number':89162831706,\n",
    "     'user_birthday':datetime.strptime('2001-04-10','%Y-%m-%d') \n",
    "    },\n",
    "   \n",
    "    {'user_id':10005,\n",
    "     'user_name':'Галочкин Пётр Борисович',\n",
    "     'user_email_address':'petr.galochkin1009@gmail.com',\n",
    "     'phone_number':89272061006,\n",
    "     'user_birthday':datetime.strptime('1974-06-01','%Y-%m-%d') \n",
    "    },\n",
    "    {'user_id':10006,\n",
    "     'user_name':'Зевакина Антонина Петровна',\n",
    "     'user_email_address':'zevvv.127@gmail.com',\n",
    "     'phone_number':89139036700,\n",
    "     'user_birthday':datetime.strptime('1970-07-20','%Y-%m-%d') \n",
    "    },\n",
    "    \n",
    "]\n",
    "result=connection.execute(filling16,F)"
   ]
  },
  {
   "cell_type": "code",
   "execution_count": 37,
   "metadata": {},
   "outputs": [],
   "source": [
    "filling17=orders.insert()\n",
    "G=[\n",
    "    {'order_id':996,\n",
    "     'user_id':10004,\n",
    "     'order_date':datetime.strptime('2021-06-06','%Y-%m-%d'),\n",
    "     'delivery_date':datetime.strptime('2021-06-18','%Y-%m-%d'),\n",
    "     'order_price':499.99,\n",
    "     'good_id':81\n",
    "    },\n",
    "    {'order_id':995,\n",
    "     'user_id':10005,\n",
    "     'order_date':datetime.strptime('2021-09-09','%Y-%m-%d'),\n",
    "     'delivery_date':datetime.strptime('2021-09-29','%Y-%m-%d'),\n",
    "     'order_price':199.99,\n",
    "     'good_id':90   \n",
    "    },\n",
    "    {'order_id':994,\n",
    "     'user_id':10006,\n",
    "     'order_date':datetime.strptime('2021-10-10','%Y-%m-%d'),\n",
    "     'delivery_date':datetime.strptime('2021-10-20','%Y-%m-%d'),\n",
    "     'order_price':899.99,\n",
    "     'good_id':30    \n",
    "    },\n",
    "    {'order_id':993,\n",
    "     'user_id':10001,\n",
    "     'order_date':datetime.strptime('2021-08-10','%Y-%m-%d'),\n",
    "     'delivery_date':datetime.strptime('2021-10-20','%Y-%m-%d'),\n",
    "     'order_price':899.99,\n",
    "     'good_id':30    \n",
    "    },\n",
    "    {'order_id':992,\n",
    "     'user_id':10002,\n",
    "     'order_date':datetime.strptime('2021-07-10','%Y-%m-%d'),\n",
    "     'delivery_date':datetime.strptime('2021-10-20','%Y-%m-%d'),\n",
    "     'order_price':899.99,\n",
    "     'good_id':30    \n",
    "    },\n",
    "    {'order_id':991,\n",
    "     'user_id':10006,\n",
    "     'order_date':datetime.strptime('2021-09-09','%Y-%m-%d'),\n",
    "     'delivery_date':datetime.strptime('2021-09-29','%Y-%m-%d'),\n",
    "     'order_price':199.99,\n",
    "     'good_id':90   \n",
    "    },\n",
    "    {'order_id':990,\n",
    "     'user_id':10004,\n",
    "     'order_date':datetime.strptime('2021-06-06','%Y-%m-%d'),\n",
    "     'delivery_date':datetime.strptime('2021-06-18','%Y-%m-%d'),\n",
    "     'order_price':499.99,\n",
    "     'good_id':47},\n",
    "    {'order_id':889,\n",
    "     'user_id':10004,\n",
    "     'order_date':datetime.strptime('2021-06-06','%Y-%m-%d'),\n",
    "     'delivery_date':datetime.strptime('2021-06-18','%Y-%m-%d'),\n",
    "     'order_price':499.99,\n",
    "     'good_id':108},\n",
    "    {'order_id':888,\n",
    "     'user_id':10003,\n",
    "     'order_date':datetime.strptime('2021-06-06','%Y-%m-%d'),\n",
    "     'delivery_date':datetime.strptime('2021-06-18','%Y-%m-%d'),\n",
    "     'order_price':499.99,\n",
    "     'good_id':81},\n",
    "]\n",
    "result=connection.execute(filling17,G)"
   ]
  },
  {
   "cell_type": "code",
   "execution_count": 38,
   "metadata": {},
   "outputs": [],
   "source": [
    "filling18=goods.insert()\n",
    "H=[\n",
    "    {'good_id':81,\n",
    "     'good_name':'бальзам для волос',\n",
    "     'good_price':499.99,\n",
    "     'brand':'LiveAlive',\n",
    "     'shelf_life':datetime.strptime('2023-10-20','%Y-%m-%d')\n",
    "    },\n",
    "    {'good_id':90,\n",
    "     'good_name':'гель для душа',\n",
    "     'good_price':199.99,\n",
    "     'brand':'Happy city',\n",
    "     'shelf_life':datetime.strptime('2025-05-23','%Y-%m-%d')    \n",
    "    },\n",
    "    {'good_id':30,\n",
    "     'good_name':'тональный крем',\n",
    "     'good_price':899.99,\n",
    "     'brand':'Milkkk',\n",
    "     'shelf_life': datetime.strptime('2023-07-15','%Y-%m-%d')  \n",
    "    },\n",
    "]\n",
    "result=connection.execute(filling18,H)"
   ]
  },
  {
   "cell_type": "code",
   "execution_count": 39,
   "metadata": {},
   "outputs": [],
   "source": [
    "filling19=shipments.insert()\n",
    "K=[\n",
    "    {'shipment_id':126,\n",
    "     'good_id':81,\n",
    "     'supplier_id':999111,\n",
    "     'shipment_date':datetime.strptime('2021-06-15','%Y-%m-%d'),\n",
    "     'place_shipment':'Москва.Улица Каховка 7'\n",
    "    },\n",
    "    {'shipment_id':127,\n",
    "     'good_id':90,\n",
    "     'supplier_id':888555,\n",
    "     'shipment_date':datetime.strptime('2021-09-20','%Y-%m-%d'),\n",
    "     'place_shipment':'Москва.Улица Одесская 4' \n",
    "    },\n",
    "    {'shipment_id':128,\n",
    "     'good_id':30,\n",
    "     'supplier_id':333444,\n",
    "     'shipment_date':datetime.strptime('2021-10-13','%Y-%m-%d'),\n",
    "     'place_shipment':'Москва.Улица Охотничья 6'\n",
    "    },\n",
    "    {'shipment_id':129,\n",
    "     'good_id':30,\n",
    "     'supplier_id':333444,\n",
    "     'shipment_date':datetime.strptime('2021-10-20','%Y-%m-%d'),\n",
    "     'place_shipment':'Москва.Улица Охотничья 6'\n",
    "    },\n",
    "    {'shipment_id':130,\n",
    "     'good_id':81,\n",
    "     'supplier_id':888555,\n",
    "     'shipment_date':datetime.strptime('2021-06-15','%Y-%m-%d'),\n",
    "     'place_shipment':'Москва.Улица Каховка 7'\n",
    "    },\n",
    "    {'shipment_id':131,\n",
    "     'good_id':47,\n",
    "     'supplier_id':888666,\n",
    "     'shipment_date':datetime.strptime('2021-06-15','%Y-%m-%d'),\n",
    "     'place_shipment':'Москва.Улица Каховка 7'\n",
    "    }\n",
    "]\n",
    "result=connection.execute(filling19,K)"
   ]
  },
  {
   "cell_type": "code",
   "execution_count": 40,
   "metadata": {},
   "outputs": [],
   "source": [
    "filling20=suppliers.insert()\n",
    "N=[\n",
    "    {'supplier_id':888444,\n",
    "     'company_name':'Бутик номер 4',\n",
    "     'specialization':'Производство специализированной косметики для волос',\n",
    "     'supplier_email_address':'butik.04@gmail.com'    \n",
    "    },\n",
    "    {'supplier_id':888555,\n",
    "     'company_name':'Бутик номер 5',\n",
    "     'specialization':'Производство натуральной косметики',\n",
    "     'supplier_email_address':'butik.05@gmail.com' \n",
    "    },\n",
    "    {'supplier_id':888666,\n",
    "     'company_name':'Бутик номер 6',\n",
    "     'specialization':'Производство гипоаллергенной косметики',\n",
    "     'supplier_email_address':'butik.06@gmail.com'   \n",
    "    },\n",
    "]\n",
    "result=connection.execute(filling20,N)"
   ]
  },
  {
   "cell_type": "markdown",
   "metadata": {},
   "source": [
    "### Созданная реляционная база данных наполнена информацией о некоторых операциях за 2021 год."
   ]
  }
 ],
 "metadata": {
  "kernelspec": {
   "display_name": "Python 3",
   "language": "python",
   "name": "python3"
  },
  "language_info": {
   "codemirror_mode": {
    "name": "ipython",
    "version": 3
   },
   "file_extension": ".py",
   "mimetype": "text/x-python",
   "name": "python",
   "nbconvert_exporter": "python",
   "pygments_lexer": "ipython3",
   "version": "3.7.6"
  }
 },
 "nbformat": 4,
 "nbformat_minor": 5
}
