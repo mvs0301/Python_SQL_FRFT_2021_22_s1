{
 "cells": [
  {
   "cell_type": "markdown",
   "metadata": {},
   "source": [
    "<img src=../Img/sci.png>\n",
    "\n",
    "\n",
    "    \n",
    "<p style=\"font-size:150%;text-align:center\">Финансовый университет</p>\n",
    "\n",
    "\n",
    "<p style=\"font-size:200%;text-align:center\">Программирование на языках Python и SQL\n",
    "\n",
    "\n",
    "<p style=\"font-size:150%;text-align:center\">Контрольная работа</p>\n",
    "    \n",
    "\n",
    "    \n",
    "Семинар<br>\n",
    "13 декабря 2021 года<br>\n",
    "Группы: ФРФТ20-2, ФРФТ20-1\n",
    "\n",
    "Преподаватель: Смирнов Михаил Викторович, доцент Департамента анализа данных и машинного обучения Финансового университета при Правительстве Российской Федерации. mvsmirnov@fa.ru\n",
    "\n",
    "При подготовке материалов учебных занятий использовались источники\n",
    "- Essential SQLAlchemy: Mapping Python to Databases 2nd Edition. Jason Myers, Rick Copeland. O'Reilly Media, Inc. 2015.\n",
    "- <a href=\"http://insideairbnb.com/get-the-data.html\">Inside Airbnb</a>\n",
    "\n",
    "# Проект Антверпен\n",
    "\n",
    "<img src=\"./Img/Antwerp_1.png\">\n",
    "\n",
    "# Задания\n",
    "\n",
    "## 1. Изучите структуру базы данных размещения туристов в Антверпене\n",
    "\n",
    "<img src=\"./Img/Antwerpen_4.png\">\n",
    "\n",
    "<img src=./Img/Schema.png>"
   ]
  },
  {
   "cell_type": "markdown",
   "metadata": {},
   "source": [
    "## 2. Создайте отображение базы данных\n",
    "\n",
    "<img src=\"./Img/Antwerpen_2.png\">"
   ]
  },
  {
   "cell_type": "code",
   "execution_count": 1,
   "metadata": {},
   "outputs": [],
   "source": [
    "# Ваш код здесь\n",
    "\n",
    "from sqlalchemy import MetaData, Table, create_engine, select, and_, or_, not_, desc\n",
    "from sqlalchemy.sql import func, alias, exists, join, outerjoin\n",
    "from pprint import pprint\n",
    "engine = create_engine('sqlite:///Data/Antwerp.db')\n",
    "metadata = MetaData()\n",
    "metadata.reflect(bind=engine)\n",
    "conn=engine.connect()\n",
    "metadata.tables.keys()\n",
    "\n",
    "users=Table(\"users\", metadata, autoload=True, autoload_with=\"engine\")\n",
    "orders=Table(\"orders\", metadata, autoload=True, autoload_with=\"engine\")\n",
    "line_items=Table(\"line_items\", metadata, autoload=True, autoload_with=\"engine\")\n",
    "neighbourhoods=Table(\"neighbourhoods\", metadata, autoload=True, autoload_with=\"engine\")\n",
    "listings=Table(\"listings\", metadata, autoload=True, autoload_with=\"engine\")\n",
    "hosts=Table(\"hosts\", metadata, autolad=True, autolad_with=\"engine\")\n",
    "room_types=Table(\"room_types\", metadata, autoload=True, autoload_with=\"engine\")"
   ]
  },
  {
   "cell_type": "markdown",
   "metadata": {},
   "source": [
    "## 3. Выполните SQL-запросы\n",
    "\n",
    "<img src=\"./Img/Antwerpen_6b.png\">\n",
    "\n",
    "<p style=\"font-size:120%;color:green\">3.1. Выполните SQL-запросы к базе данных <i>Antwerp.db</i> с помощью SQLAlchemy</p>\n",
    "\n",
    "1. Распечатать названия районов и количество объектов в каждом районе. Упорядочить результат по убыванию числа объектов.\n",
    "2. Распечатать название района, имя владельца, название объекта для всех объектов размещения в районах *Dam* и *Donk*. Отсортировать результат по названию района и в каждом районе по имени владельца.\n",
    "3. Распечатать имя владельца и число объектов, которым он владеет, для всех владельцев, которые владеют семью и более объектами. Результат отсортировать по числу объектов в порядке убывания.\n",
    "4. Сколько комнат каждого типа в районах *Centraal Station* и *Harmonie?*. Результат должен содержать названия типов комнат и названия районов. Отсортировать результат по названию района.\n",
    "5. Комнатами какого типа владеет *Mari?*. Распечатать число комнат каждого типа.\n",
    "6. Распечатать все объекты, принадлежащие владельцам *Mari* и *Marie*. Выполнить этот запрос с помощью подзапроса и без использования JOIN.  \n",
    "7. Найти объект размещения максимальной цены.\n",
    "8. Найти среднюю цену объекта в районе *Hoogte*.\n",
    "9. Найти пользователей, не сделавших ни одного заказа.\n",
    "\n",
    "\n",
    "<p style=\"font-size:120%;color:green\">3.2. Выполните SQL-запрос с помощью DB Browser for SQLite.</p>\n",
    "\n",
    "10. Распечатать названия и цены объектов в районе *Hoogte* с ценой ниже средней цены по району *Hoogte*.\n",
    "11. Распечатать название объекта, имя владельца, идентификатор района, название района и цену объекта, ограничившись только объектами, находящимися в таких районах, в которых менее 4 объектов. Результат отсортировать по названию района."
   ]
  }
 ],
 "metadata": {
  "kernelspec": {
   "display_name": "Python 3",
   "language": "python",
   "name": "python3"
  },
  "language_info": {
   "codemirror_mode": {
    "name": "ipython",
    "version": 3
   },
   "file_extension": ".py",
   "mimetype": "text/x-python",
   "name": "python",
   "nbconvert_exporter": "python",
   "pygments_lexer": "ipython3",
   "version": "3.8.8"
  }
 },
 "nbformat": 4,
 "nbformat_minor": 2
}
