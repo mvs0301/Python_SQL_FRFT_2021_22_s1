{
 "cells": [
  {
   "cell_type": "code",
   "execution_count": null,
   "metadata": {},
   "outputs": [],
   "source": [
    "# загружаем стиль оформления документа\n",
    "from IPython.display import HTML\n",
    "from urllib.request import urlopen\n",
    "html = urlopen(\"file:lecture.css\")\n",
    "HTML(html.read().decode('utf-8'))"
   ]
  },
  {
   "cell_type": "markdown",
   "metadata": {},
   "source": [
    "<img src=\"./Img/Banner_1.png\">\n",
    "\n",
    "29 декабря 2021 года<br>\n",
    "ФРФТ20-2, ФРФТ20-1; ОД/207 (ул. Олеко Дундича, 23)\n",
    "\n",
    "<p style=\"font-size:125%; text-align:center\">Финансовый университет</p>\n",
    "\n",
    "<p style=\"font-size:150%; text-align:center\">Тема 5. Работа с файлами</p>\n",
    "\n",
    "Преподаватель: Смирнов Михаил Викторович, доцент Департамента Анализа данных и машинного обучения Финансового университета при Правительстве Российской Федерации\n",
    "\n",
    "При подготовке занятия использованы материалы онлайн школы <a href=https://skillfactory.ru/> SkillFactory </a>"
   ]
  },
  {
   "cell_type": "markdown",
   "metadata": {},
   "source": [
    "## Введение"
   ]
  },
  {
   "cell_type": "markdown",
   "metadata": {},
   "source": [
    "Модуль _JSON_ стандартной библиотеки _Python_\n",
    "<br>https://docs.python.org/3/library/json.html\n",
    "\n",
    "Модуль _read_excel_ библиотеки _Pandas_\n",
    "<br>http://pandas.pydata.org/pandas-docs/stable/reference/api/pandas.read_excel.html\n",
    "\n",
    "Модуль _xml.etree.ElementTree_ стандартной библиотеки _Python_\n",
    "<br>https://docs.python.org/3.7/library/xml.etree.elementtree.html\n",
    "\n",
    "Статья о множествах: https://python-scripts.com/sets\n",
    "\n",
    "Набор данных\n",
    "- сокращенная версия ./Data/recipes.json\n",
    "- полная версия https://www.kaggle.com/c/whats-cooking/data"
   ]
  },
  {
   "cell_type": "markdown",
   "metadata": {},
   "source": [
    "# 1. Файлы JSON\n",
    "\n",
    "## 1.1. Получение данных в формате JSON"
   ]
  },
  {
   "cell_type": "code",
   "execution_count": null,
   "metadata": {},
   "outputs": [],
   "source": [
    "import json\n",
    "from pprint import pprint # Из модуля pprint функцию pprint"
   ]
  },
  {
   "cell_type": "markdown",
   "metadata": {},
   "source": [
    "Десериализация с помощью *json.load()*"
   ]
  },
  {
   "cell_type": "code",
   "execution_count": null,
   "metadata": {
    "scrolled": true
   },
   "outputs": [],
   "source": [
    "with open('./Data/recipes.json') as f:\n",
    "    recipes=json.load(f)"
   ]
  },
  {
   "cell_type": "markdown",
   "metadata": {},
   "source": [
    "Распечатаем первый рецепт"
   ]
  },
  {
   "cell_type": "code",
   "execution_count": null,
   "metadata": {},
   "outputs": [],
   "source": [
    "pprint(recipes[0])"
   ]
  },
  {
   "cell_type": "code",
   "execution_count": null,
   "metadata": {},
   "outputs": [],
   "source": [
    "len(recipes)"
   ]
  },
  {
   "cell_type": "markdown",
   "metadata": {},
   "source": [
    "После того как мы провели десериализацию данных из JSON-файла, мы можем работать с полученным объектом, как с обычным словарём.\n",
    "\n",
    "К какой кухне относится блюдо с id=13121?"
   ]
  },
  {
   "cell_type": "code",
   "execution_count": null,
   "metadata": {
    "scrolled": true
   },
   "outputs": [],
   "source": [
    "for r in recipes:\n",
    "    if r['id']==13121:\n",
    "        break\n",
    "pprint(r)"
   ]
  },
  {
   "cell_type": "markdown",
   "metadata": {},
   "source": [
    "### Задание 1.1.1\n",
    "Какую кухню (ключ 'cuisine') представляет последнее блюдо в списке _recipes?_"
   ]
  },
  {
   "cell_type": "code",
   "execution_count": null,
   "metadata": {},
   "outputs": [],
   "source": [
    "# Ваш код здесь\n",
    "\n"
   ]
  },
  {
   "cell_type": "markdown",
   "metadata": {},
   "source": [
    "### Задание 1.1.2\n",
    "Сколько ингредиентов входит в состав этого блюда?"
   ]
  },
  {
   "cell_type": "code",
   "execution_count": null,
   "metadata": {},
   "outputs": [],
   "source": [
    "# Ваш код здесь\n",
    "\n"
   ]
  },
  {
   "cell_type": "markdown",
   "metadata": {},
   "source": [
    "### Задание 1.1.3\n",
    "Какие из перечисленных ингредиентов присутствуют в блюде с id = 17636?\n",
    "```\n",
    "['tomato sauce','spinach','italian seasoning',\n",
    "'broccoli','chopped onion','skinless chicken thighs','chopped green bell pepper']\n",
    "```"
   ]
  },
  {
   "cell_type": "code",
   "execution_count": null,
   "metadata": {},
   "outputs": [],
   "source": [
    "# Ваш код здесь\n"
   ]
  },
  {
   "cell_type": "markdown",
   "metadata": {},
   "source": [
    "### Задание 1.1.4\n",
    "Сколько ингредиентов входит в состав рецепта для приготовления блюда с id = 42013?"
   ]
  },
  {
   "cell_type": "code",
   "execution_count": null,
   "metadata": {},
   "outputs": [],
   "source": [
    "# Ваш код здесь\n"
   ]
  },
  {
   "cell_type": "markdown",
   "metadata": {},
   "source": [
    "### Задание 1.1.5\n",
    "Какие из перечисленных ингредиентов\n",
    "```\n",
    "'olive oil', 'eggs', 'dry vermouth', 'black olives', 'black beans', 'chicken livers'\n",
    "```\n",
    "отсутствуют в блюде с id = 23629?"
   ]
  },
  {
   "cell_type": "code",
   "execution_count": null,
   "metadata": {},
   "outputs": [],
   "source": [
    "# Ваш код здесь\n"
   ]
  },
  {
   "cell_type": "markdown",
   "metadata": {},
   "source": [
    "## 1.2. Группировка данных\n",
    "\n",
    "### Какое количество кухонь представлено в наборе данных?"
   ]
  },
  {
   "cell_type": "code",
   "execution_count": null,
   "metadata": {},
   "outputs": [],
   "source": [
    "cuisines=[]\n",
    "for recipe in recipes:\n",
    "    if not recipe['cuisine'] in cuisines:\n",
    "        cuisines.append(recipe['cuisine'])\n",
    "print(len(cuisines))"
   ]
  },
  {
   "cell_type": "markdown",
   "metadata": {},
   "source": [
    "### Задание 1.2.1\n",
    "Сколько ингредиентов включено в состав всех блюд, описанных в наборе данных?\n",
    "\n",
    "Подсказка: для добавления в список или множество нового ингредиента организуйте перебор ингредиентов каждого блюда в отдельном вложенном цикле."
   ]
  },
  {
   "cell_type": "code",
   "execution_count": null,
   "metadata": {},
   "outputs": [],
   "source": [
    "# Ваш код здесь\n",
    "\n",
    "ingredients=set()\n",
    "for r in recipes:\n",
    "    for i in r[\"ingredients\"]:\n",
    "        ingredients.add(i)\n",
    "print(len(ingredients))"
   ]
  },
  {
   "cell_type": "markdown",
   "metadata": {},
   "source": [
    "### Задание 1.2.2\n",
    "Сколько ингредиентов встречается в рецептах блюд итальянской кухни _('cuisine' = italian)?_"
   ]
  },
  {
   "cell_type": "code",
   "execution_count": null,
   "metadata": {},
   "outputs": [],
   "source": [
    "# Ваш код здесь\n"
   ]
  },
  {
   "cell_type": "markdown",
   "metadata": {},
   "source": [
    "### Задание 1.2.3\n",
    "Какие ингредиенты из перечисленных\n",
    "```\n",
    "'bacon,bread slices,buttermilk,red beets,mozzarella cheese,carrots'\n",
    "```\n",
    "не встречаются в рецептах блюд русской кухни _('cuisine' = 'russian')?_"
   ]
  },
  {
   "cell_type": "code",
   "execution_count": null,
   "metadata": {
    "scrolled": true
   },
   "outputs": [],
   "source": [
    "# Ваш код здесь\n",
    "\n"
   ]
  },
  {
   "cell_type": "markdown",
   "metadata": {},
   "source": [
    "## 1.3. Создание датафрейма на основе JSON-файла\n",
    "\n",
    "Для решения многих задач нужна возможность работать с данными в форме таблицы."
   ]
  },
  {
   "cell_type": "code",
   "execution_count": null,
   "metadata": {},
   "outputs": [],
   "source": [
    "import pandas as pd"
   ]
  },
  {
   "cell_type": "code",
   "execution_count": null,
   "metadata": {
    "scrolled": false
   },
   "outputs": [],
   "source": [
    "df=pd.DataFrame(recipes)\n",
    "df"
   ]
  },
  {
   "cell_type": "markdown",
   "metadata": {},
   "source": [
    "### Задание 1.3.1\n",
    "\n",
    "Какая часть набора данных была использована в качестве заголовков столбцов при создании датафрейма с помощью команды df = pd.DataFrame(recipes)?\n",
    "\n",
    "- индексы элементов списка\n",
    "- ключи словарей \n",
    "- значения словарей\n",
    "- самые часто встречающиеся значения словарей "
   ]
  },
  {
   "cell_type": "markdown",
   "metadata": {},
   "source": [
    "### Готовим данные для анализа\n",
    "\n",
    "Множество всех  ингредиентов"
   ]
  },
  {
   "cell_type": "code",
   "execution_count": null,
   "metadata": {},
   "outputs": [],
   "source": [
    "def find_ingr(lst):\n",
    "    if ingr in lst:\n",
    "        return 1\n",
    "    return 0"
   ]
  },
  {
   "cell_type": "code",
   "execution_count": null,
   "metadata": {},
   "outputs": [],
   "source": [
    "for ingr in ingredients:\n",
    "    df[ingr]=df['ingredients'].apply(find_ingr)"
   ]
  },
  {
   "cell_type": "markdown",
   "metadata": {},
   "source": [
    "В завершение изменим значение столбца *ingredients*, заполнив его данными о количестве ингредиентов в каждом рецепте"
   ]
  },
  {
   "cell_type": "code",
   "execution_count": null,
   "metadata": {},
   "outputs": [],
   "source": [
    "df['ingredients']=df['ingredients'].apply(lambda x: len(x))"
   ]
  },
  {
   "cell_type": "code",
   "execution_count": null,
   "metadata": {
    "scrolled": true
   },
   "outputs": [],
   "source": [
    "df.head()"
   ]
  },
  {
   "cell_type": "markdown",
   "metadata": {},
   "source": [
    "###  Задание 1.3.3\n",
    "\n",
    "Определите тип переменной *lst*, которую принимает на входе функция *find_ingr:*\n",
    "- строка\n",
    "- список\n",
    "- словарь\n",
    "- JSON "
   ]
  },
  {
   "cell_type": "markdown",
   "metadata": {},
   "source": [
    "###  Задание 1.3.4\n",
    "\n",
    "Отметьте верные утверждения о переменной *ingr*, которая используется в коде функции *find_ingr:*\n",
    "- в переменной хранится название какого-либо ингредиента \n",
    "- в переменной хранится название ингредиента, входящего в состав рецепта для приготовления текущего блюда\n",
    "- значение переменной устанавливается за пределами функции \n",
    "- значение переменной не меняется при выполнении функции "
   ]
  },
  {
   "cell_type": "markdown",
   "metadata": {},
   "source": [
    "###  Задание 1.3.5\n",
    "\n",
    "Причина, по которой мы сначала заполнили столбцы с данными о наличии или отсутствии каждого ингредиента, а после этого заполнили столбец данными о количестве ингредиентов в рецепте:\n",
    "\n",
    "- Это был случайный выбор. На самом деле порядок выполнения этих действий не влияет на результат.\n",
    "- Столбцы датафрейма нужно заполнять в том порядке, в котором они расположены в датафрейме.\n",
    "- При заполнении столбцов с данными о наличии или отсутствии каждого ингредиента мы использовали информацию из столбца *ingredients*. Если бы мы заменили список, хранящийся в этом столбце изначально, на данные о количестве ингредиентов, мы бы потеряли информацию, необходимую для создания столбцов, посвящённых каждому ингредиенту в отдельности."
   ]
  },
  {
   "cell_type": "markdown",
   "metadata": {},
   "source": [
    "### Задание 1.3.6 \n",
    "\n",
    "Объедините все действия, начиная с чтения файла в JSON-формате (recipes.json) и заканчивая созданием итогового датафрейма, в единый код. Используйте множество (set) для хранения названий ингредиентов блюд. Полученный в результате работы кода датафрейм должен иметь имя *df*."
   ]
  },
  {
   "cell_type": "code",
   "execution_count": null,
   "metadata": {},
   "outputs": [],
   "source": [
    "# Ваш код здесь\n"
   ]
  },
  {
   "cell_type": "markdown",
   "metadata": {},
   "source": [
    "### Сохраняем датафрейм в CSV-файле"
   ]
  },
  {
   "cell_type": "code",
   "execution_count": null,
   "metadata": {},
   "outputs": [],
   "source": [
    "df.to_csv('recipes.csv', index = False)"
   ]
  },
  {
   "cell_type": "markdown",
   "metadata": {},
   "source": [
    "## 2. Обработка данных в формате XLSX (Excel)\n",
    "\n",
    "## 2.1. Файлы XLSX\n",
    "\n",
    "Excel-файлы — это таблицы с данными, которые имеют формат *.xls* и *.xlsx*.\n",
    "\n",
    "Инструменты для работы с Excel\n",
    "\n",
    "Сейчас практически любой текстовый процессор может работать с Excel-файлами. Изначально использовались .xls файлы, которые обрабатывались с помощью Microsoft Excel. Позже, начиная с версии Excel 2007, появился более продвинутый формат .xlsx. Для нашей работы разницы между ними нет, это те же самые табличные документы.\n",
    "\n",
    "Инструменты для работы с Excel:\n",
    "\n",
    "- Excel.\n",
    "- Google Sheets: редактирование файлов онлайн, создать новый документ можно с помощью sheets.new.\n",
    "- OpenOffice — открытый набор инструментов, в который входит приложение Calc, портирован на многие платформы.\n",
    "- Pandas.\n",
    "\n",
    "В данном блоке мы будем работать именно с Pandas: научимся читать и изменять Excel-файлы. Преимущество этого инструмента в том, что он позволяет работать со множеством однотипных документов и автоматизировать обработку."
   ]
  },
  {
   "cell_type": "code",
   "execution_count": null,
   "metadata": {},
   "outputs": [],
   "source": [
    "import pandas as pd\n",
    "import numpy as np\n",
    "import json"
   ]
  },
  {
   "cell_type": "markdown",
   "metadata": {},
   "source": [
    "Используем функцию *pandas.read_excel()* для обработки ведомости в формате Excel результатов тестирования студентов Финансового университета по русскому языку.\n",
    "\n",
    "*Примечание. Все имена студентов в ведомости являются вымышленными, любое совпадение случайно.*"
   ]
  },
  {
   "cell_type": "code",
   "execution_count": null,
   "metadata": {
    "scrolled": true
   },
   "outputs": [],
   "source": [
    "rus=pd.read_excel(\"./Data/ВедомостьРусский.xlsx\",\n",
    "                      sheet_name=\"Отчёт\", header=9,\n",
    "                      usecols=\"B:F\", nrows=46)\n",
    "rus.head()"
   ]
  },
  {
   "cell_type": "markdown",
   "metadata": {},
   "source": [
    "Удалим строки с пустыми значениями."
   ]
  },
  {
   "cell_type": "code",
   "execution_count": null,
   "metadata": {
    "scrolled": true
   },
   "outputs": [],
   "source": [
    "rus.dropna(axis=0, how=\"any\", inplace=True)\n",
    "rus.info()"
   ]
  },
  {
   "cell_type": "markdown",
   "metadata": {},
   "source": [
    "Результат тестирования содержится в столбце \"1\". Это столбец типа \"object\". В столбцах такого типа могут содержаться значения разных типов, покажем это на примере. Распечатаем 12-ю строку."
   ]
  },
  {
   "cell_type": "code",
   "execution_count": null,
   "metadata": {
    "scrolled": true
   },
   "outputs": [],
   "source": [
    "rus.iloc[12]"
   ]
  },
  {
   "cell_type": "markdown",
   "metadata": {},
   "source": [
    "Мы видим, что результат студента Иванова 50 баллов. Какого типа это значение?"
   ]
  },
  {
   "cell_type": "code",
   "execution_count": null,
   "metadata": {},
   "outputs": [],
   "source": [
    "type(rus.iloc[12, 4])"
   ]
  },
  {
   "cell_type": "markdown",
   "metadata": {},
   "source": [
    "Это целое число. Теперь изучим значение этого же атрибута в 11-й строке."
   ]
  },
  {
   "cell_type": "code",
   "execution_count": null,
   "metadata": {},
   "outputs": [],
   "source": [
    "print(rus.iloc[11])\n",
    "print(type(rus.iloc[11, 4]))"
   ]
  },
  {
   "cell_type": "markdown",
   "metadata": {},
   "source": [
    "Это строка.\n",
    "\n",
    "Упражнение. <br>\n",
    "Получите значение атрибута \"1\" в 13-й строке. Какого оно типа?"
   ]
  },
  {
   "cell_type": "markdown",
   "metadata": {},
   "source": [
    "## 2.2. Перевод результатов в формат JSON\n",
    "Решим задачу перевода содержимого таблицы c результатами тестирования в файл формата JSON. С этой целью желательно, чтобы все значения столбца \"1\" были одного типа. Приведем их к текстовому типу."
   ]
  },
  {
   "cell_type": "code",
   "execution_count": null,
   "metadata": {},
   "outputs": [],
   "source": [
    "rus[\"1\"]=rus[\"1\"].astype(str)"
   ]
  },
  {
   "cell_type": "markdown",
   "metadata": {},
   "source": [
    "Проверим теперь, в каком виде хранится значение результата студента Иванова."
   ]
  },
  {
   "cell_type": "code",
   "execution_count": null,
   "metadata": {},
   "outputs": [],
   "source": [
    "rus.iloc[12, 4], type(rus.iloc[12, 4])"
   ]
  },
  {
   "cell_type": "markdown",
   "metadata": {},
   "source": [
    "Это строка. Создадим список словарей в формате JSON"
   ]
  },
  {
   "cell_type": "code",
   "execution_count": null,
   "metadata": {},
   "outputs": [],
   "source": [
    "rus.index"
   ]
  },
  {
   "cell_type": "code",
   "execution_count": null,
   "metadata": {},
   "outputs": [],
   "source": [
    "json_list=[]\n",
    "for ind in rus.index:\n",
    "    dict1=rus.loc[ind].to_dict()\n",
    "    json_list.append(dict1)\n",
    "\n",
    "json_list[11:14]"
   ]
  },
  {
   "cell_type": "markdown",
   "metadata": {},
   "source": [
    "Проведём сериализацию."
   ]
  },
  {
   "cell_type": "code",
   "execution_count": null,
   "metadata": {},
   "outputs": [],
   "source": [
    "with open(\"ВедомостьРусский.json\", \"w\", encoding='utf-8') as f:\n",
    "    json.dump(json_list, f, ensure_ascii=False)"
   ]
  },
  {
   "cell_type": "markdown",
   "metadata": {},
   "source": [
    "## 2.3. Перевод результатов в формат XLSX\n",
    "\n",
    "### 2.3.1. Запись в Excel-файл с помощью pandas.read_excel()\n",
    "\n",
    "В столбце \"1\" таблицы *rus* содержатся баллы и пояснения, такие как \"неявка\". Оставим только информацию о баллах, удалив строки таблицы, содержащие пояснения."
   ]
  },
  {
   "cell_type": "code",
   "execution_count": null,
   "metadata": {
    "scrolled": true
   },
   "outputs": [],
   "source": [
    "print(rus.shape)\n",
    "rus=rus[~rus[\"1\"].str.contains(\"неявка\")]\n",
    "print(rus.shape)"
   ]
  },
  {
   "cell_type": "markdown",
   "metadata": {},
   "source": [
    "Сохраним эти данные в формате *.xlsx*"
   ]
  },
  {
   "cell_type": "code",
   "execution_count": null,
   "metadata": {},
   "outputs": [],
   "source": [
    "rus.to_excel(\"ВедомостьНовая.xlsx\", index=False)"
   ]
  },
  {
   "cell_type": "markdown",
   "metadata": {},
   "source": [
    "### 2.3.2. Форматирование Excel-файлов с помощью pandas.ExcelWriter()\n",
    "\n",
    "Для форматирования содержимого Excel-файлов создадим объект pandas.ExcelWriter()."
   ]
  },
  {
   "cell_type": "code",
   "execution_count": null,
   "metadata": {},
   "outputs": [],
   "source": [
    "writer=pd.ExcelWriter(\"ВедомостьНоваяФорматированная.xlsx\")\n",
    "rus.to_excel(writer, index=False, sheet_name='Отчёт')"
   ]
  },
  {
   "cell_type": "markdown",
   "metadata": {},
   "source": [
    "Мы все равно использовали метод to_excel(), но вместо пути к будущему файлу передали объект типа ExcelWriter, который создали на первой строке. \n",
    "\n",
    "Теперь добавми форматирование. Если мы хотим добавить форматирование, нужно выбрать объекты *workbook* книги и *worksheet* страницы."
   ]
  },
  {
   "cell_type": "code",
   "execution_count": null,
   "metadata": {},
   "outputs": [],
   "source": [
    "workbook=writer.book\n",
    "worksheet=writer.sheets[\"Отчёт\"]\n",
    "\n",
    "border_format=workbook.add_format({'border': True})\n",
    "worksheet.set_column(\"A:E\", 1, border_format)\n",
    "writer.save()\n",
    "writer.close()"
   ]
  },
  {
   "cell_type": "markdown",
   "metadata": {},
   "source": [
    "Какие параметры можно попробовать:\n",
    "\n",
    "    border отвечает за границы столбца и может быть равен True или False;\n",
    "    bold - полужирное начертание;\n",
    "    italic - курсив;\n",
    "    align отвечает за расположение данных внутри ячеек, например, center для настройки выравнивания по центру; \n",
    "    fg_color отвечает за цвет фона, например, 'green', хотя можно передать и шестнадцатиричное значение, например, '#D7E4BC'.\n",
    "\n",
    "Подробнее в документации:\n",
    "https://xlsxwriter.readthedocs.io/index.html"
   ]
  },
  {
   "cell_type": "markdown",
   "metadata": {},
   "source": [
    "## 2.4. Чтение XLSX-файлов по ссылке\n",
    "\n",
    "Если Excel-файл в Интернете, его необязательно загружать на диск, в методе *pandas.read_excel()* можно использовать ссылку.\n",
    "\n",
    "<img src=\"./Img/YandexSearch.png\" style=\"width:60%\">\n",
    "\n",
    "Загрузим отчет в формате Excel \"Среднедушевые денежные доходы населения по субъектам Российской федерации\" по ссылке https://rosstat.gov.ru/storage/mediabank/urov_11sub-nm.xlsx"
   ]
  },
  {
   "cell_type": "code",
   "execution_count": null,
   "metadata": {
    "scrolled": false
   },
   "outputs": [],
   "source": [
    "income=pd.read_excel(\"https://rosstat.gov.ru/storage/mediabank/urov_11sub-nm.xlsx\", header=3)\n",
    "income.sample(5)"
   ]
  },
  {
   "cell_type": "markdown",
   "metadata": {},
   "source": [
    "\n",
    "\n",
    "<p style=\"font-size:120%; color:green\">Вот так выглядит XML файл:</p>\n",
    "\n",
    "```\n",
    "<data>      \n",
    "    <items>    \n",
    "        <item name=\"item1\">item1abc</item>    \n",
    "        <item name=\"item2\">item2abc</item>    \n",
    "    </items>    \n",
    "</data>  \n",
    "```\n",
    "XML похож на HTML.\n",
    "\n",
    "XML расшифровывается как eXtensible Markup Language — расширяемый язык разметки. Он позволяет описывать документы, используя теги. В отличие от HTML, где теги заранее четко заданы, в XML мы можем задавать теги сами.\n",
    "\n",
    "Например, если мы хотим описать меню в ресторане, мы можем слегка изменить код выше:\n",
    "\n",
    "```\n",
    "<menu>    \n",
    "    <dish name=\"Курятина\">  \n",
    "        <price>40</price>  \n",
    "        <weight>300</weight>  \n",
    "        <class>Мясо</class>  \n",
    "    </dish>\n",
    "    <dish name=\"Гречка\">  \n",
    "        <price>20</price>  \n",
    "        <weight>200</weight>  \n",
    "        <class>Крупа</class>  \n",
    "    </dish>\n",
    "</menu>  \n",
    "```\n",
    "\n",
    "В примере выше довольно жесткая структура: у нас есть меню, в нём — объекты, помеченные тегом `<dish>`, у каждого из которых есть параметр *name*, в котором прописано имя объекта. В данном случае можно считать, что *dish* — это класс этого объекта.\n",
    "\n",
    "Внутри каждого объекта находится набор значений, которые тоже задаются тегами. Например, внутри тега `<price>` находится значение 20, означающее цену данного блюда. Тег `<price>` и другие теги внутри `<dish>` можно рассматривать как атрибуты класса dish.\n",
    "\n",
    "Файлы XML не всегда имеют жесткую структуру и не обязаны ее иметь, но чаще всего какая-то структура внутри файла будет. Почему? Потому что обычно XML не пишут вручную. Такие файлы генерируются кодом, и читаются тоже кодом. Поэтому при наличии понятной структуры обработка файла становится намного проще.\n",
    "\n",
    "\n",
    "### Как работают с XML?\n",
    "\n",
    "XML-файлы имеют древовидную структуру. Это значит, что в файле используется набор тегов, внутри которых могут находиться другие теги со своими значениями.\n",
    "\n",
    "В каком-то смысле XML похож на JSON или даже просто на словарь со значениями. Чуть позже вы увидите, как можно превратить XML-файл в JSON и в Python-словарь. После этого вы сможете пользоваться стандартными средствами языка Python для работы с этими данными, не задумываясь о том, в каком формате они к вам пришли.\n",
    "\n",
    "Это не единственный способ работать с XML в Python. В стандартной библиотеке языка есть пакет, который позволяет работать с XML напрямую. В дальнейшем мы разберём его подробнее и сможем читать, модифицировать и записывать файлы XML.\n",
    "    \n",
    "Если у вас нет времени разбираться с программированием, вам прислали XML-файл, и вы просто хотите посмотреть на него или превратить его в JSON, можно воспользоваться любым из многочисленных онлайн-сервисов, например, https://codebeautify.org/xmlviewer"
   ]
  },
  {
   "cell_type": "markdown",
   "metadata": {},
   "source": [
    "# 3. Обработка данных в формате XML\n",
    "\n",
    "\n",
    "## Обработка данных с помощью ElementTree\n",
    "\n",
    "Изучим парсинг структурированных текстовых данных на примере фильмотеки movies.xml\n",
    "\n",
    "Изучим:\n",
    "\n",
    "- Использование функций пакета ElementTree\n",
    "- Редактирование XML\n",
    "- Создание XML\n",
    "\n",
    "# 3.1 Знакомство со структурой XML-файла\n",
    "\n",
    "Фрагмент XML-файла фильмотеки\n",
    "\n",
    "```\n",
    "<?xml version=\"1.0\"?>\n",
    "<collection>\n",
    "    <genre category=\"Action\">\n",
    "        <decade years=\"1980s\">\n",
    "            <movie favorite=\"True\" title=\"Indiana Jones: The raiders of the lost Ark\">\n",
    "                <format multiple=\"No\">DVD</format>\n",
    "                <year>1981</year>\n",
    "                <rating>PG</rating>\n",
    "                <description>\n",
    "                'Archaeologist and adventurer Indiana Jones \n",
    "                is hired by the U.S. government to find the Ark of the \n",
    "                Covenant before the Nazis.'\n",
    "                </description>\n",
    "            </movie>\n",
    "               <movie favorite=\"True\" title=\"THE KARATE KID\">\n",
    "               <format multiple=\"Yes\">DVD,Online</format>\n",
    "               <year>1984</year>\n",
    "               <rating>PG</rating>\n",
    "               <description>None provided.</description>\n",
    "            </movie>\n",
    "            <movie favorite=\"False\" title=\"Back 2 the Future\">\n",
    "               <format multiple=\"False\">Blu-ray</format>\n",
    "               <year>1985</year>\n",
    "               <rating>PG</rating>\n",
    "               <description>Marty McFly</description>\n",
    "            </movie>\n",
    "        </decade>\n",
    "        <decade years=\"1990s\">\n",
    "            <movie favorite=\"False\" title=\"X-Men\">\n",
    "               <format multiple=\"Yes\">dvd, digital</format>\n",
    "               <year>2000</year>\n",
    "               <rating>PG-13</rating>\n",
    "               <description>Two mutants come to a private academy for their kind whose resident superhero team must \n",
    "               oppose a terrorist organization with similar powers.</description>\n",
    "            </movie>\n",
    "\n",
    "```\n",
    "\n",
    "Структура XML документа подобна дереву. Единственным корнем является `<collection>`. Корень содержит все другие элементы, такие, как `<genre>` и `<movie>` - их называют потомками или подчиненными элементами.\n",
    "\n",
    "Обратите внимание, что элементы-потомки также могут иметь своих потомков. Элементы XML-дерева могут содержать атрибуты, например, элемент `<movie>` содержит атрибут *title*.\n",
    "\n",
    "Для начала, импортируем библиотеку ElemntTree. Обычной практикой является присвоение ей псевдонима ET."
   ]
  },
  {
   "cell_type": "code",
   "execution_count": null,
   "metadata": {},
   "outputs": [],
   "source": [
    "import xml.etree.ElementTree as ET"
   ]
  },
  {
   "cell_type": "markdown",
   "metadata": {},
   "source": [
    "## 3.2. Парсинг XML файлов\n",
    "\n",
    "Сначала прочтем XML файл"
   ]
  },
  {
   "cell_type": "code",
   "execution_count": null,
   "metadata": {},
   "outputs": [],
   "source": [
    "tree = ET.parse('./Data/movies.xml')\n",
    "root = tree.getroot()"
   ]
  },
  {
   "cell_type": "markdown",
   "metadata": {},
   "source": [
    "Мы создали дерево и его корень. У каждого элемента дерева, включая корень, имеется тег и могут быть атрибуты."
   ]
  },
  {
   "cell_type": "code",
   "execution_count": null,
   "metadata": {
    "scrolled": true
   },
   "outputs": [],
   "source": [
    "print(root.tag)\n",
    "print(root.attrib)"
   ]
  },
  {
   "cell_type": "markdown",
   "metadata": {},
   "source": [
    "Мы видим, что корень называется `collection`. У корня нет атрибутов."
   ]
  },
  {
   "cell_type": "markdown",
   "metadata": {},
   "source": [
    "## 3.3. Итерация элеметов XML-файла\n",
    "\n",
    "Элементы и вложенные элементы XML-файла являются итерируемыми объектами"
   ]
  },
  {
   "cell_type": "code",
   "execution_count": null,
   "metadata": {},
   "outputs": [],
   "source": [
    "for child in root:\n",
    "    print(child.tag, child.attrib)"
   ]
  },
  {
   "cell_type": "markdown",
   "metadata": {},
   "source": [
    "Теперь мы знаем, что потомками корня являются все элементы `<genre>`. Чтобы отличать элементы `<genre>` один от другого используется атрибут `category`.\n",
    "\n",
    "Часто бывает полезно получить полный список элементов дерева. Функция `root.iter()` позволяет провести итерацию по всем элементам дерева."
   ]
  },
  {
   "cell_type": "code",
   "execution_count": null,
   "metadata": {
    "scrolled": false
   },
   "outputs": [],
   "source": [
    "xml_elements=[elem.tag for elem in root.iter()]\n",
    "print(xml_elements)"
   ]
  },
  {
   "cell_type": "markdown",
   "metadata": {},
   "source": [
    "Такой результат даёт нам общее представление об элементах XML-дерева, но ничего не говорит об атрибутах и иерархии элементов.\n",
    "\n",
    "Каждый элемент имеет метод `.tostring()`, позволяющий его распечатать. Если применить метод `.tostring()` к корню, то на печать будет выведен весь XML-файл. Необходимо указать параметры кодирования и декодирования: для XML в большинстве случаев подходит `utf-8`."
   ]
  },
  {
   "cell_type": "code",
   "execution_count": null,
   "metadata": {},
   "outputs": [],
   "source": [
    "print(ET.tostring(root, encoding='utf8').decode('utf8'))"
   ]
  },
  {
   "cell_type": "markdown",
   "metadata": {},
   "source": [
    "После общего ознакомления с содержимым, мы можем использовать `root.iter()` для более подробного изучения конкретных элементов. Если передадим в функцию `iter()` имя тега `movie`, итерация пройдет только по тегам `movie`. Узнаем, какие атрибуты содержатся в тегах `<movie>`."
   ]
  },
  {
   "cell_type": "code",
   "execution_count": null,
   "metadata": {
    "scrolled": false
   },
   "outputs": [],
   "source": [
    "for m in root.iter(\"movie\"):\n",
    "    print(m.attrib)"
   ]
  },
  {
   "cell_type": "markdown",
   "metadata": {},
   "source": [
    "Можно заметить, что фильмы введены по-разному. Это связано с тем, что XML-файл в разное время наполнялся разными сотрудниками. Позже мы изучим вопрос исправления таких ошибок.\n",
    "\n",
    "## 3.4. Выражения XPath\n",
    "\n",
    "Часто бывает так, что у элементов нет атрибутов, но есть только текстовое содержимое. Получить его можно с помощью `.text`. Распечатаем содержимое всех элементов `<description>`"
   ]
  },
  {
   "cell_type": "code",
   "execution_count": null,
   "metadata": {},
   "outputs": [],
   "source": [
    "for desc in root.iter('description'):\n",
    "    print(desc.text)"
   ]
  },
  {
   "cell_type": "markdown",
   "metadata": {},
   "source": [
    "*XPath* является языком запросов. *XPath* означает *XML Path Language* и, как следует из названия, использует \"path like syntax\" - \"путеподобный\" синтакис для идентификации узлов и навигации по узлам XML документа.\n",
    "\n",
    "В *ElementTree* есть функция `.findall()`, которая просматривает непосредственных потомков элемента. Язык *XPath* позволяет  детализировать поиск. Найдем фильмы, вышедшие в 1992 году."
   ]
  },
  {
   "cell_type": "code",
   "execution_count": null,
   "metadata": {
    "scrolled": true
   },
   "outputs": [],
   "source": [
    "for movie in root.findall(\"./genre/decade/movie/[year='1992']\"):\n",
    "    print(movie.attrib)"
   ]
  },
  {
   "cell_type": "markdown",
   "metadata": {},
   "source": [
    "Функция `.findall()` всегда начинает поиск с указанного элемента. Этот тип функции чрезвычайно эффективен для задачи «поиска и замены». Искать можно даже по атрибутам!\n",
    "\n",
    "Теперь распечатаем атрибуты только тех фильмов, которые доступны в нескольких форматах (атрибут `multiple` со значением 'Yes')."
   ]
  },
  {
   "cell_type": "code",
   "execution_count": null,
   "metadata": {},
   "outputs": [],
   "source": [
    "for movie in root.findall(\"./genre/decade/movie/format/[@multiple='Yes']\"):\n",
    "    print(movie.attrib)"
   ]
  },
  {
   "cell_type": "markdown",
   "metadata": {},
   "source": [
    "Подумайте, почему в этом случае оператор печати возвращает значения «Да». Перепишите цикл 'for' чтобы распечатать названия фильмов. Подсказка: используйте `...` внутри XPath, чтобы вернуть родительский элемент текущего элемента.\n",
    "```\n",
    "for movie in root.findall(\"./genre/decade/movie/format[@multiple='Yes']...\"):\n",
    "    print(movie.attrib)\n",
    "```"
   ]
  },
  {
   "cell_type": "code",
   "execution_count": null,
   "metadata": {},
   "outputs": [],
   "source": [
    "# Ваш код здесь\n",
    "\n",
    "for movie in root.findall(\"./genre/decade/movie/format[@multiple='Yes']...\"):\n",
    "    print(movie.attrib)"
   ]
  },
  {
   "cell_type": "markdown",
   "metadata": {},
   "source": [
    "## 3.5. Изменение XML документа\n",
    "\n",
    "Названия XML-документа оформлены по-разному. Еще раз распечатаем атрибуты тегов *movie*."
   ]
  },
  {
   "cell_type": "code",
   "execution_count": null,
   "metadata": {},
   "outputs": [],
   "source": [
    "for movie in root.iter('movie'):\n",
    "    print(movie.attrib)"
   ]
  },
  {
   "cell_type": "markdown",
   "metadata": {},
   "source": [
    "Исправим цифру «2» в Back 2 the Future. Напишем код, чтобы найти элемент `movie` с названием \"Back 2 the Future\" и сохраним его как переменную:"
   ]
  },
  {
   "cell_type": "code",
   "execution_count": null,
   "metadata": {},
   "outputs": [],
   "source": [
    "b2tf = root.find(\"./genre/decade/movie[@title='Back 2 the Future']\")\n",
    "print(b2tf)"
   ]
  },
  {
   "cell_type": "markdown",
   "metadata": {},
   "source": [
    "Метод `.find()` вернул элемент дерева. Обратимся к атрибуту элемента."
   ]
  },
  {
   "cell_type": "code",
   "execution_count": null,
   "metadata": {},
   "outputs": [],
   "source": [
    "b2tf.attrib"
   ]
  },
  {
   "cell_type": "markdown",
   "metadata": {},
   "source": [
    "Присвоим атрибуту `title` новое значение."
   ]
  },
  {
   "cell_type": "code",
   "execution_count": null,
   "metadata": {},
   "outputs": [],
   "source": [
    "b2tf.attrib[\"title\"]=\"Back to the Future\"\n",
    "print(b2tf.attrib)"
   ]
  },
  {
   "cell_type": "markdown",
   "metadata": {},
   "source": [
    "Запишем изменения обратно в XML, чтобы они навсегда остались в документе."
   ]
  },
  {
   "cell_type": "code",
   "execution_count": null,
   "metadata": {},
   "outputs": [],
   "source": [
    "tree.write(\"movies_improved.xml\")"
   ]
  },
  {
   "cell_type": "markdown",
   "metadata": {},
   "source": [
    "Еще раз создадим дерево, корень и распечатаем атрибуты элементов movie"
   ]
  },
  {
   "cell_type": "code",
   "execution_count": null,
   "metadata": {
    "scrolled": false
   },
   "outputs": [],
   "source": [
    "tree = ET.parse('./movies_improved.xml')\n",
    "root = tree.getroot()\n",
    "\n",
    "for movie in root.iter('movie'):\n",
    "    print(movie.attrib)"
   ]
  },
  {
   "cell_type": "markdown",
   "metadata": {},
   "source": [
    "## 3.6. Исправление атрибутов\n",
    "\n",
    "Некоторые атрибуты `multiple` элементов `<format>` содержат некорректные значения. Чтобы убедиться в этом, распечатаем значения атрибутов и содержимое элементов `<format>`. "
   ]
  },
  {
   "cell_type": "code",
   "execution_count": null,
   "metadata": {},
   "outputs": [],
   "source": [
    "for form in root.findall(\"./genre/decade/movie/format\"):\n",
    "    print(form.attrib, form.text)"
   ]
  },
  {
   "cell_type": "markdown",
   "metadata": {},
   "source": [
    "Используем *regex* чтобы найти в тексте запятые - их наличие станет признаком того, что значение `multiple='Yes'`. В противном случае значение должно быть 'No'. Добавление и изменение атрибутов удобно проводить с помощью метода `.set()`.\n",
    "\n",
    "Дополнительно: <a href=\"https://www.datacamp.com/community/tutorials/python-regular-expression-tutorial\"> учебный материал о регулярных выражениях </a>"
   ]
  },
  {
   "cell_type": "code",
   "execution_count": null,
   "metadata": {
    "scrolled": true
   },
   "outputs": [],
   "source": [
    "import re\n",
    "\n",
    "for form in root.findall(\"./genre/decade/movie/format\"):\n",
    "    match=re.search(\",\",form.text)\n",
    "    if match:\n",
    "        form.set(\"multiple\",\"Yes\")\n",
    "    else:\n",
    "        form.set(\"multiple\",\"No\")\n",
    "\n",
    "tree.write(\"movies_improved.xml\")\n",
    "\n",
    "tree=ET.parse(\"movies_improved.xml\")\n",
    "root=tree.getroot()\n",
    "\n",
    "for form in root.findall(\"./genre/decade/movie/format\"):\n",
    "    print(form.attrib, form.text)"
   ]
  },
  {
   "cell_type": "markdown",
   "metadata": {},
   "source": [
    "## 3.7. Перемещение элементов\n",
    "\n",
    "Некторые из фильмов попали не в свою декаду. Распечатаем теги `decade` и `year`."
   ]
  },
  {
   "cell_type": "code",
   "execution_count": null,
   "metadata": {
    "scrolled": false
   },
   "outputs": [],
   "source": [
    "for dec in root.iter(\"decade\"):\n",
    "    print(dec.attrib)\n",
    "    for y in dec.iter(\"year\"):\n",
    "        print(y.text)"
   ]
  },
  {
   "cell_type": "markdown",
   "metadata": {},
   "source": [
    "Этот же результат можно получить, выполнив следующий код:"
   ]
  },
  {
   "cell_type": "code",
   "execution_count": null,
   "metadata": {},
   "outputs": [],
   "source": [
    "for dec in root.findall(\"./genre/decade\"):\n",
    "    print(dec.attrib)\n",
    "    for y in dec.findall(\"./movie/year\"):\n",
    "        print(y.text)"
   ]
  },
  {
   "cell_type": "markdown",
   "metadata": {},
   "source": [
    "Два фильма 2000-го года попали не в свою декаду. Найдем эти фильмы, используя выражение XPath."
   ]
  },
  {
   "cell_type": "code",
   "execution_count": null,
   "metadata": {},
   "outputs": [],
   "source": [
    "for m in root.findall(\"./genre/decade/movie/[year='2000']\"):\n",
    "    print(m.attrib)"
   ]
  },
  {
   "cell_type": "markdown",
   "metadata": {},
   "source": [
    "Для 'X-Men' потребуется добавить тег декады 2000-х в раздел жанра Экшн. Метод `.SubElement` добавит такой тег в конец XML раздела."
   ]
  },
  {
   "cell_type": "code",
   "execution_count": null,
   "metadata": {},
   "outputs": [],
   "source": [
    "a = root.find(\"./genre[@category='Action']\")\n",
    "new_dec = ET.SubElement(a, 'decade')\n",
    "new_dec.attrib[\"years\"] = '2000s'\n",
    "\n",
    "print(ET.tostring(a, encoding='utf8').decode('utf8'))"
   ]
  },
  {
   "cell_type": "markdown",
   "metadata": {},
   "source": [
    "Теперь добавим фильм X-Men в раздел 2000-х, исключив его из 1990-х. Для этого используем `.append()` и `.remove()`."
   ]
  },
  {
   "cell_type": "code",
   "execution_count": null,
   "metadata": {},
   "outputs": [],
   "source": [
    "xmen=root.find(\"./genre/decade/movie[@title='X-Men']\")\n",
    "dec2000s=root.find(\"./genre[@category='Action']/decade[@years='2000s']\")\n",
    "dec2000s.append(xmen)\n",
    "\n",
    "dec1990s=root.find(\"./genre[@category='Action']/decade[@years='1990s']\")\n",
    "dec1990s.remove(xmen)\n",
    "\n",
    "print(ET.tostring(a, encoding='utf8').decode('utf8'))"
   ]
  },
  {
   "cell_type": "markdown",
   "metadata": {},
   "source": [
    "## 3.8. Создание XML-документов\n",
    "\n",
    "Теперь сохраним результаты в XML-файл."
   ]
  },
  {
   "cell_type": "code",
   "execution_count": null,
   "metadata": {},
   "outputs": [],
   "source": [
    "tree.write(\"movies_improved.xml\")\n",
    "\n",
    "tree=ET.parse('movies_improved.xml')\n",
    "root=tree.getroot()\n",
    "\n",
    "print(ET.tostring(root,encoding='utf8').decode('utf8'))"
   ]
  },
  {
   "cell_type": "markdown",
   "metadata": {},
   "source": [
    "## 3.9. Заключение\n",
    "\n",
    "Несколько важных вещей, которые следует запомнить.\n",
    "\n",
    "Теги строят древовидную структуру и обозначают, какие значения должны быть там. Теги всегда нуждаются в открывающих и закрывающих скобках, чтобы показать отношения родительского и дочернего элементов.\n",
    "\n",
    "Атрибуты дополнительно описывают, как проверить тег или разрешить логические обозначения. Атрибуты обычно принимают конкретные значения, атрибуты можно использовать для проверки значений тегов.\n",
    "\n",
    "ElementTree - важная библиотека Python, которая позволяет анализировать XML-документ и перемещаться по нему. Использование ElementTree разбивает XML-документ на древовидную структуру, с которой легко работать. \n",
    "Для наглядности весь XML-документ можно распечатать с помощью кода\n",
    "\n",
    "```print (ET.tostring (root, encoding = 'utf8').decode ('utf8'))```"
   ]
  },
  {
   "cell_type": "markdown",
   "metadata": {},
   "source": [
    "Ответьте на вопросы:\n",
    "\n",
    "- что является корнем фильмотеки movies.xml\n",
    "- какие атрибуты содржит тег `<movie>`?\n",
    "- какие потомки у тега `<movie>`?\n",
    "- Сколько атрибутов у корня?\n",
    "- Что является родительским элементом для элемента `<year>`?"
   ]
  }
 ],
 "metadata": {
  "kernelspec": {
   "display_name": "Python 3",
   "language": "python",
   "name": "python3"
  },
  "language_info": {
   "codemirror_mode": {
    "name": "ipython",
    "version": 3
   },
   "file_extension": ".py",
   "mimetype": "text/x-python",
   "name": "python",
   "nbconvert_exporter": "python",
   "pygments_lexer": "ipython3",
   "version": "3.7.6"
  }
 },
 "nbformat": 4,
 "nbformat_minor": 4
}
