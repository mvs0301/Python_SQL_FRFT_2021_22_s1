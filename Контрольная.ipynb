{
 "cells": [
  {
   "cell_type": "markdown",
   "metadata": {},
   "source": [
    "<img src=\"./Img/Banner_1.png\">\n",
    "\n",
    "8 ноября 2021 года<br>\n",
    "ФРФТ20-2; вебинар, 11:50-13:20 <br>\n",
    "ФРФТ20-1; вебинар, 14:00-15:30\n",
    "\n",
    "<p style=\"text-align:center; font-size:150%\">Контрольная работа</p>\n",
    "\n",
    "<p style=\"font-size:110%\">I. Изучите структуру базы данных магазина музыкальной продукции Чайнук.</p>\n",
    "\n",
    "База данных Чайнук (Chinook) содержит сведения о работе музыкального Интернет-сервиса, аналогичного AppStore, в котором пользователи могут приобретать трэки, альбомы и составлять плейлисты. БД Chinook состоит из 11 таблиц:\n",
    "\n",
    "- Таблица сотрудников хранит данные сотрудников, такие как идентификатор сотрудника, фамилия, имя и т. д. В ней есть поле с именем ReportsTo, чтобы указать, кто кому подчиняется. Сотрудники оказывают поддержку клиентам, для этого в таблице клиентов введен внешний ключ SupportRepId, ссылающийся на идентификатор сотрудника EmployeeId.\n",
    "- В таблице клиентов хранятся данные о клиентах.\n",
    "- Таблицы Invoice и InvoiceLine: в этих двух таблицах хранятся данные счетов. В таблице Invoice хранятся данные заголовка счета-фактуры, а в таблице InvoiceLine хранятся данные отдельных позиций счета-фактуры. Каждая строка InvoiceLine отражает информацию о заказе конкретного трека.\n",
    "- В таблице исполнителей хранятся данные об артистах. Это простая таблица, содержащая только идентификатор и имя исполнителя.\n",
    "- В таблице альбомов хранятся данные об альбоме и его исполнителе. Каждый альбом принадлежит одному исполнителю. Однако у одного исполнителя может быть несколько альбомов.\n",
    "- В таблице MediaType хранятся типы мультимедиа, такие как аудиофайлы MPEG и аудиофайлы AAC.\n",
    "- В таблице жанров хранятся типы музыки, такие как рок, джаз, металл и т. д.\n",
    "- В таблице треков хранятся данные о песнях. Каждый трек принадлежит одному альбому.\n",
    "- Таблицы Playlist и PlaylistTrack: таблица Playlist хранит данные о плейлистах. Каждый список воспроизведения содержит список треков. Каждый трек может принадлежать нескольким плейлистам. Связь между таблицей списков воспроизведения и таблицей треков - «многие ко многим». Таблица PlaylistTrack используется для отражения этой связи.\n",
    "\n",
    "<img src=\"./Img/chinook_ERD.png\" style=\"width:100%\">\n",
    "\n",
    "<p style=\"font-size:110%\">II. Выполните отображение БД Chinook, создайте объекты таблиц.</p>"
   ]
  },
  {
   "cell_type": "code",
   "execution_count": 184,
   "metadata": {},
   "outputs": [
    {
     "name": "stdout",
     "output_type": "stream",
     "text": [
      "dict_keys(['Album', 'Artist', 'Customer', 'Employee', 'Genre', 'Invoice', 'InvoiceLine', 'Track', 'MediaType', 'Playlist', 'PlaylistTrack'])\n"
     ]
    }
   ],
   "source": [
    "from sqlalchemy import MetaData, Table, create_engine, select, and_, or_, not_, cast\n",
    "from sqlalchemy import String, Numeric, Float, Integer\n",
    "from sqlalchemy.sql import func, alias, desc\n",
    "\n",
    "import pandas\n",
    "from matplotlib import pyplot\n",
    "\n",
    "engine = create_engine('sqlite:///Data/Chinook_Sqlite.sqlite')\n",
    "metadata = MetaData()\n",
    "metadata.reflect(bind=engine)\n",
    "conn=engine.connect()\n",
    "\n",
    "Album=Table(\"Album\", metadata, autoload=True, autoload_with=\"engine\")\n",
    "Artist=Table(\"Artist\", metadata, autoload=True, autoload_with=\"engine\")\n",
    "Customer=Table(\"Customer\", metadata, autoload=True, autoload_with=\"engine\")\n",
    "Employee=Table(\"Employee\", metadata, autoload=True, autoload_with=\"engine\")\n",
    "Track=Table(\"Track\", metadata, autoload=True, autoload_with=\"engine\")\n",
    "Genre=Table(\"Genre\", metadata, autoload=True, autoload_with=\"engine\")\n",
    "Invoice=Table(\"Invoice\", metadata, autoload=True, autoload_with=\"engine\")\n",
    "InvoiceLine=Table(\"InvoiceLine\", metadata, autoload=True, autoload_with=\"engine\")\n",
    "Playlist=Table(\"Playlist\", metadata, autoload=True, autoload_with=\"engine\")\n",
    "PlaylistTrack=Table(\"PlaylistTrack\", metadata, autoload=True, autoload_with=\"engine\")\n",
    "\n",
    "print(metadata.tables.keys())"
   ]
  },
  {
   "cell_type": "markdown",
   "metadata": {},
   "source": [
    "<p style=\"font-size:110%\">III. Выполните задания в Jupyter notebook.</p>\n",
    "\n",
    "1. Составьте запрос, выполняющий вывод количества клиентов (Customer) из каждой страны.\n",
    "2. Составьте запрос, выполняющий вывод идентификаторов, имён, фамилий и стран клиентов (Customer) за исключением клиентов из США, Канады, Бразилии, Чили.\n",
    "3. Составьте запрос, выполняющий вывод информации о счетах клиентов из Бразилии. Результат должен содержать фамилию и имя клиента, идентификатор счета, дату выставления счета, название страны плательщика (Billing Country).\n",
    "4. Создайте запрос, показывающий, сколько счетов ассоциировано с каждым торговым агентом (Sales Support Agent). Результат должен содержать фамилию, имя агента, количество счетов.\n",
    "5. Напишите запрос, выводящий на печать общее количество счетов, выставленных в 2009 и 2011 годах?\n",
    "6. Составьте запрос, показывающий общее число трэков в каждом плей-листе. Результат должен содержать называние плей-листа.\n",
    "7. Проанализируйте следующий код. Что является результатом? Скопируйте код в исполняемую ячейку, выполните и постройте столбчатую диаграмму.\n",
    "\n",
    "```\n",
    "E=Employee.alias(\"E\")\n",
    "I=Invoice.alias(\"I\")\n",
    "C=Customer.alias(\"C\")\n",
    "\n",
    "s=select(E.c.LastName + \" \" + E.c.FirstName, func.sum(cast(I.c.Total, Integer())))\n",
    "s=s.where(E.c.EmployeeId==C.c.SupportRepId)\n",
    "s=s.where(C.c.CustomerId==I.c.CustomerId)\n",
    "s=s.where(E.c.Title.like(\"%Support%\"))\n",
    "s=s.group_by(E.c.LastName, E.c.FirstName)\n",
    "\n",
    "result=conn.execute(s).fetchall()\n",
    "df=pandas.DataFrame(result, columns=[\"Name\",\"Value\"])\n",
    "df\n",
    "```\n",
    "8. Используя данные таблицы детализации счетов (InvoiceLine), постройте столбчатую диаграмму числа треков в заказах десяти самых популярных исполнителей."
   ]
  }
 ],
 "metadata": {
  "kernelspec": {
   "display_name": "Python 3",
   "language": "python",
   "name": "python3"
  },
  "language_info": {
   "codemirror_mode": {
    "name": "ipython",
    "version": 3
   },
   "file_extension": ".py",
   "mimetype": "text/x-python",
   "name": "python",
   "nbconvert_exporter": "python",
   "pygments_lexer": "ipython3",
   "version": "3.7.6"
  }
 },
 "nbformat": 4,
 "nbformat_minor": 4
}
