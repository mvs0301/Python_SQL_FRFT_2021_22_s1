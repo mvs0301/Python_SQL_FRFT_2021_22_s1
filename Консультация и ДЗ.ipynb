{
 "cells": [
  {
   "cell_type": "markdown",
   "metadata": {},
   "source": [
    "<p style=\"font-size:125%; text-align:center\"> Финансовый университет при Правительстве Российской Федерации</p>\n",
    "\n",
    "<img src=\"./Img/clipart-financial-university-small.png\" style=\"width:125px\">\n",
    "\n",
    "<p style=\"font-size:125%; text-align:center\">Программирование на языках Python и SQL</p>\n",
    "<p style=\"font-size:125%; text-align:center\"> ФРФТ20-1, ФРФТ20-2</p>\n",
    "<p style=\"font-size:125%; text-align:center\"> Методический материал и домашнее задание <br>для выполнения в период нерабочих дней <br>с 28 октября по 7 ноября 2021 года</p>\n",
    "\n",
    "<p style=\"font-size:125%\">Тема: \"Графическое представление результатов запросов\"\n",
    "\n",
    "<p>\n",
    "Содержание<br>\n",
    "I. Методический материал.<br>\n",
    "II. Домашнее задание.<br>\n",
    "</p>\n",
    "<p style=\"font-size:125%\"> I. Методический материал</p>\n",
    "<p style=\"font-size:125%\"> Вопрос 1. Столбчатая диаграмма</p>\n",
    "\n",
    "Построим столбчатую диаграмму количества часов, отведенных на изучение каждого предмета. Импортируем библиотеки и создадим отображение базы данных студентов."
   ]
  },
  {
   "cell_type": "code",
   "execution_count": 1,
   "metadata": {},
   "outputs": [],
   "source": [
    "from sqlalchemy import MetaData, Table, create_engine, select, and_, or_, not_, cast, String\n",
    "from sqlalchemy.sql import func\n",
    "engine = create_engine('sqlite:///Data/Students.db')\n",
    "metadata = MetaData()\n",
    "metadata.reflect(bind=engine)\n",
    "conn=engine.connect()\n",
    "metadata.tables.keys()\n",
    "\n",
    "exam_marks=Table(\"exam_marks\", metadata, autoload=True, autoload_with=\"engine\")\n",
    "lecturer=Table(\"lecturer\", metadata, autoload=True, autoload_with=\"engine\")\n",
    "student=Table(\"student\", metadata, autoload=True, autoload_with=\"engine\")\n",
    "subj_lect=Table(\"subj_lect\", metadata, autoload=True, autoload_with=\"engine\")\n",
    "subject=Table(\"subject\", metadata, autoload=True, autoload_with=\"engine\")\n",
    "university=Table(\"university\", metadata, autolad=True, autolad_with=\"engine\")"
   ]
  },
  {
   "cell_type": "markdown",
   "metadata": {},
   "source": [
    "Выполним SQL-запрос."
   ]
  },
  {
   "cell_type": "code",
   "execution_count": 2,
   "metadata": {},
   "outputs": [
    {
     "name": "stdout",
     "output_type": "stream",
     "text": [
      "[(10, 'Информатика', 56, 1), (11, 'Программирование на языках Python и SQL', 34, 2), (12, 'Анализ данных', 42, 1), (13, 'ОБЖ', 34, 2), (14, 'Обработка данных и моделирование в Excel', 36, 3), (22, 'Физика', 34, 1), (23, 'Теория вероятностей и математическая статистика', 72, 4), (43, 'Математика', 56, 2), (56, 'История', 34, 4), (73, 'Физкультура', 34, 5), (94, 'Английский язык', 56, 3)]\n"
     ]
    }
   ],
   "source": [
    "s=select(subject)\n",
    "result=conn.execute(s).fetchall()\n",
    "print(result)"
   ]
  },
  {
   "cell_type": "markdown",
   "metadata": {},
   "source": [
    "Результатом SQL-запроса является список кортежей. Поместим этот результат в таблицу *Pandas*. Также нам понадобится *pyplot* из библиотеки *matplotlib* для графика."
   ]
  },
  {
   "cell_type": "code",
   "execution_count": 3,
   "metadata": {},
   "outputs": [],
   "source": [
    "import pandas as pd\n",
    "from matplotlib import pyplot as plt"
   ]
  },
  {
   "cell_type": "code",
   "execution_count": 4,
   "metadata": {
    "scrolled": true
   },
   "outputs": [
    {
     "data": {
      "text/html": [
       "<div>\n",
       "<style scoped>\n",
       "    .dataframe tbody tr th:only-of-type {\n",
       "        vertical-align: middle;\n",
       "    }\n",
       "\n",
       "    .dataframe tbody tr th {\n",
       "        vertical-align: top;\n",
       "    }\n",
       "\n",
       "    .dataframe thead th {\n",
       "        text-align: right;\n",
       "    }\n",
       "</style>\n",
       "<table border=\"1\" class=\"dataframe\">\n",
       "  <thead>\n",
       "    <tr style=\"text-align: right;\">\n",
       "      <th></th>\n",
       "      <th>Код</th>\n",
       "      <th>Название</th>\n",
       "      <th>Часов</th>\n",
       "      <th>Семестр</th>\n",
       "    </tr>\n",
       "  </thead>\n",
       "  <tbody>\n",
       "    <tr>\n",
       "      <th>0</th>\n",
       "      <td>10</td>\n",
       "      <td>Информатика</td>\n",
       "      <td>56</td>\n",
       "      <td>1</td>\n",
       "    </tr>\n",
       "    <tr>\n",
       "      <th>1</th>\n",
       "      <td>11</td>\n",
       "      <td>Программирование на языках Python и SQL</td>\n",
       "      <td>34</td>\n",
       "      <td>2</td>\n",
       "    </tr>\n",
       "    <tr>\n",
       "      <th>2</th>\n",
       "      <td>12</td>\n",
       "      <td>Анализ данных</td>\n",
       "      <td>42</td>\n",
       "      <td>1</td>\n",
       "    </tr>\n",
       "    <tr>\n",
       "      <th>3</th>\n",
       "      <td>13</td>\n",
       "      <td>ОБЖ</td>\n",
       "      <td>34</td>\n",
       "      <td>2</td>\n",
       "    </tr>\n",
       "    <tr>\n",
       "      <th>4</th>\n",
       "      <td>14</td>\n",
       "      <td>Обработка данных и моделирование в Excel</td>\n",
       "      <td>36</td>\n",
       "      <td>3</td>\n",
       "    </tr>\n",
       "    <tr>\n",
       "      <th>5</th>\n",
       "      <td>22</td>\n",
       "      <td>Физика</td>\n",
       "      <td>34</td>\n",
       "      <td>1</td>\n",
       "    </tr>\n",
       "    <tr>\n",
       "      <th>6</th>\n",
       "      <td>23</td>\n",
       "      <td>Теория вероятностей и математическая статистика</td>\n",
       "      <td>72</td>\n",
       "      <td>4</td>\n",
       "    </tr>\n",
       "    <tr>\n",
       "      <th>7</th>\n",
       "      <td>43</td>\n",
       "      <td>Математика</td>\n",
       "      <td>56</td>\n",
       "      <td>2</td>\n",
       "    </tr>\n",
       "    <tr>\n",
       "      <th>8</th>\n",
       "      <td>56</td>\n",
       "      <td>История</td>\n",
       "      <td>34</td>\n",
       "      <td>4</td>\n",
       "    </tr>\n",
       "    <tr>\n",
       "      <th>9</th>\n",
       "      <td>73</td>\n",
       "      <td>Физкультура</td>\n",
       "      <td>34</td>\n",
       "      <td>5</td>\n",
       "    </tr>\n",
       "    <tr>\n",
       "      <th>10</th>\n",
       "      <td>94</td>\n",
       "      <td>Английский язык</td>\n",
       "      <td>56</td>\n",
       "      <td>3</td>\n",
       "    </tr>\n",
       "  </tbody>\n",
       "</table>\n",
       "</div>"
      ],
      "text/plain": [
       "    Код                                         Название  Часов  Семестр\n",
       "0    10                                      Информатика     56        1\n",
       "1    11          Программирование на языках Python и SQL     34        2\n",
       "2    12                                    Анализ данных     42        1\n",
       "3    13                                              ОБЖ     34        2\n",
       "4    14         Обработка данных и моделирование в Excel     36        3\n",
       "5    22                                           Физика     34        1\n",
       "6    23  Теория вероятностей и математическая статистика     72        4\n",
       "7    43                                       Математика     56        2\n",
       "8    56                                          История     34        4\n",
       "9    73                                      Физкультура     34        5\n",
       "10   94                                  Английский язык     56        3"
      ]
     },
     "execution_count": 4,
     "metadata": {},
     "output_type": "execute_result"
    }
   ],
   "source": [
    "subjects=pd.DataFrame(result,columns=[\"Код\",\"Название\",\"Часов\",\"Семестр\"])\n",
    "subjects"
   ]
  },
  {
   "cell_type": "markdown",
   "metadata": {},
   "source": [
    "Обратите внимание: использовался необязательный параметр\n",
    "```\n",
    "columns=[\"Код\",\"Название\",\"Часов\",\"Семестр\"]\n",
    "```\n",
    "Ипользование этого парметра позволило присвоить указанные имена столбцам таблицы. Построим столбчатую диаграмму."
   ]
  },
  {
   "cell_type": "code",
   "execution_count": 5,
   "metadata": {
    "scrolled": false
   },
   "outputs": [
    {
     "data": {
      "image/png": "[encoded data removed]",
      "text/plain": [
       "<Figure size 1440x360 with 1 Axes>"
      ]
     },
     "metadata": {
      "needs_background": "light"
     },
     "output_type": "display_data"
    }
   ],
   "source": [
    "plt.figure(figsize=(20,5))\n",
    "plt.bar(subjects[\"Название\"].str[:8], subjects[\"Часов\"], width=0.5)\n",
    "plt.xlabel(\"Дисциплина\")\n",
    "plt.ylabel(\"Часов\")\n",
    "plt.grid();"
   ]
  },
  {
   "cell_type": "markdown",
   "metadata": {},
   "source": [
    "<u>Обратите внимание</u>: использовался параметр *figsize=(20,5)*, позволяющий задавать соотношение сторон области построения диаграммы. Также использована функция *.str[ ]* из библиотеки Pandas, которая применяется к столбцу таблицы строкового типа и позволяет совершать строковые операции с содержимым столбца. В данном случае все значения столбца \"Название\" обрезаны по длине 8 символов для экономии места на горизонтальной оси диаграммы. Параметр *width* задает ширину столбца диаграммы. Попробуйте выполнить код в этой ячейке без функции *str* и с разными значениями *figsize* и *width*. Что изменилось?"
   ]
  },
  {
   "cell_type": "markdown",
   "metadata": {},
   "source": [
    "<p style=\"font-size:125%\">Вопрос 2. Гистограма распределения</p>\n",
    "<p>Исследуем вопрос о том, как часто встречаются фамилии студентов определенной длины. Для этого построим гистограмму распределения числа букв в фамилиях.</p>\n",
    "\n",
    "<p>Составим запрос, результатом которого является таблица с фамилиями всех студентов.</p>"
   ]
  },
  {
   "cell_type": "code",
   "execution_count": 6,
   "metadata": {
    "scrolled": true
   },
   "outputs": [
    {
     "name": "stdout",
     "output_type": "stream",
     "text": [
      "[('Иванов',), ('Петров',), ('Сидоров',), ('Кузнецов',), ('Зайцева',)]\n"
     ]
    }
   ],
   "source": [
    "s=select(student.c.surname)\n",
    "result=conn.execute(s).fetchall()\n",
    "print(result[:5])"
   ]
  },
  {
   "cell_type": "markdown",
   "metadata": {},
   "source": [
    "<p>Поместим результат в таблицу Pandas</p>"
   ]
  },
  {
   "cell_type": "code",
   "execution_count": 7,
   "metadata": {},
   "outputs": [
    {
     "data": {
      "text/html": [
       "<div>\n",
       "<style scoped>\n",
       "    .dataframe tbody tr th:only-of-type {\n",
       "        vertical-align: middle;\n",
       "    }\n",
       "\n",
       "    .dataframe tbody tr th {\n",
       "        vertical-align: top;\n",
       "    }\n",
       "\n",
       "    .dataframe thead th {\n",
       "        text-align: right;\n",
       "    }\n",
       "</style>\n",
       "<table border=\"1\" class=\"dataframe\">\n",
       "  <thead>\n",
       "    <tr style=\"text-align: right;\">\n",
       "      <th></th>\n",
       "      <th>Фамилия</th>\n",
       "      <th>Длина</th>\n",
       "    </tr>\n",
       "  </thead>\n",
       "  <tbody>\n",
       "    <tr>\n",
       "      <th>0</th>\n",
       "      <td>Иванов</td>\n",
       "      <td>6</td>\n",
       "    </tr>\n",
       "    <tr>\n",
       "      <th>1</th>\n",
       "      <td>Петров</td>\n",
       "      <td>6</td>\n",
       "    </tr>\n",
       "    <tr>\n",
       "      <th>2</th>\n",
       "      <td>Сидоров</td>\n",
       "      <td>7</td>\n",
       "    </tr>\n",
       "    <tr>\n",
       "      <th>3</th>\n",
       "      <td>Кузнецов</td>\n",
       "      <td>8</td>\n",
       "    </tr>\n",
       "    <tr>\n",
       "      <th>4</th>\n",
       "      <td>Зайцева</td>\n",
       "      <td>7</td>\n",
       "    </tr>\n",
       "    <tr>\n",
       "      <th>...</th>\n",
       "      <td>...</td>\n",
       "      <td>...</td>\n",
       "    </tr>\n",
       "    <tr>\n",
       "      <th>107</th>\n",
       "      <td>Киселев</td>\n",
       "      <td>7</td>\n",
       "    </tr>\n",
       "    <tr>\n",
       "      <th>108</th>\n",
       "      <td>Миронова</td>\n",
       "      <td>8</td>\n",
       "    </tr>\n",
       "    <tr>\n",
       "      <th>109</th>\n",
       "      <td>Павлов</td>\n",
       "      <td>6</td>\n",
       "    </tr>\n",
       "    <tr>\n",
       "      <th>110</th>\n",
       "      <td>Петров</td>\n",
       "      <td>6</td>\n",
       "    </tr>\n",
       "    <tr>\n",
       "      <th>111</th>\n",
       "      <td>Лукин</td>\n",
       "      <td>5</td>\n",
       "    </tr>\n",
       "  </tbody>\n",
       "</table>\n",
       "<p>112 rows × 2 columns</p>\n",
       "</div>"
      ],
      "text/plain": [
       "      Фамилия  Длина\n",
       "0      Иванов      6\n",
       "1      Петров      6\n",
       "2     Сидоров      7\n",
       "3    Кузнецов      8\n",
       "4     Зайцева      7\n",
       "..        ...    ...\n",
       "107   Киселев      7\n",
       "108  Миронова      8\n",
       "109    Павлов      6\n",
       "110    Петров      6\n",
       "111     Лукин      5\n",
       "\n",
       "[112 rows x 2 columns]"
      ]
     },
     "execution_count": 7,
     "metadata": {},
     "output_type": "execute_result"
    }
   ],
   "source": [
    "surnames=pd.DataFrame(result,columns=[\"Фамилия\"])\n",
    "surnames[\"Длина\"]=surnames[\"Фамилия\"].str.len()\n",
    "surnames"
   ]
  },
  {
   "cell_type": "markdown",
   "metadata": {},
   "source": [
    "<p>Построим гистограмму по числовому столбцу \"Длина\".</p>"
   ]
  },
  {
   "cell_type": "code",
   "execution_count": 8,
   "metadata": {
    "scrolled": false
   },
   "outputs": [
    {
     "data": {
      "image/png": "[encoded data removed]",
      "text/plain": [
       "<Figure size 432x288 with 1 Axes>"
      ]
     },
     "metadata": {
      "needs_background": "light"
     },
     "output_type": "display_data"
    }
   ],
   "source": [
    "plt.figure(figsize=(6,4))\n",
    "plt.hist(surnames[\"Длина\"])\n",
    "plt.xlabel(\"Длина фамилии\");"
   ]
  },
  {
   "cell_type": "markdown",
   "metadata": {},
   "source": [
    "Метод *.hist()* разбил диапазон количества букв (которое меняется от 3 до 10) на 10 интервалов по умолчанию. Ширина интервала меньше единицы, поэтому в некоторых интервалах мы видим пустоты. Это не является ошибкой. Уменьшим число интервалов до шести с помощью параметра *bins*."
   ]
  },
  {
   "cell_type": "code",
   "execution_count": 9,
   "metadata": {},
   "outputs": [
    {
     "data": {
      "image/png": "[encoded data removed]",
      "text/plain": [
       "<Figure size 432x288 with 1 Axes>"
      ]
     },
     "metadata": {
      "needs_background": "light"
     },
     "output_type": "display_data"
    }
   ],
   "source": [
    "plt.figure(figsize=(6,4))\n",
    "plt.hist(surnames[\"Длина\"],bins=6)\n",
    "plt.xlabel(\"Длина фамилии\");"
   ]
  },
  {
   "cell_type": "markdown",
   "metadata": {},
   "source": [
    "<p>Теперь в каждом интервале имеется число, соответствующее одному из значений столбца <i>Длина</i>, поэтому пустот нет. Аналогичный результат можно получить, применив к столбцу <i>Длина</i> функцию <i>value_counts()</i>.</p>"
   ]
  },
  {
   "cell_type": "code",
   "execution_count": 10,
   "metadata": {
    "scrolled": true
   },
   "outputs": [
    {
     "data": {
      "text/plain": [
       "(6.5, 7.667]      39\n",
       "(7.667, 8.833]    27\n",
       "(8.833, 10.0]     20\n",
       "(5.333, 6.5]      17\n",
       "(4.167, 5.333]     5\n",
       "(2.992, 4.167]     4\n",
       "Name: Длина, dtype: int64"
      ]
     },
     "execution_count": 10,
     "metadata": {},
     "output_type": "execute_result"
    }
   ],
   "source": [
    "d=surnames[\"Длина\"].value_counts(bins=6)\n",
    "d"
   ]
  },
  {
   "cell_type": "markdown",
   "metadata": {},
   "source": [
    "Функция *value_counts()* сортирует результат по убыванию. Результат мы поместили в переменную *d*. По своему типу *d* - это серия, состоящая из одного столбца с данными (39,27,20 ...) и массива индексных меток. Для построения столбчатой диаграммы достаточно вызвать встроенную в Pandas функцию *plot* с параметром *kind=bar*."
   ]
  },
  {
   "cell_type": "code",
   "execution_count": 11,
   "metadata": {
    "scrolled": false
   },
   "outputs": [
    {
     "data": {
      "image/png": "[encoded data removed]",
      "text/plain": [
       "<Figure size 432x288 with 1 Axes>"
      ]
     },
     "metadata": {
      "needs_background": "light"
     },
     "output_type": "display_data"
    }
   ],
   "source": [
    "d.plot(kind=\"bar\");"
   ]
  },
  {
   "cell_type": "markdown",
   "metadata": {},
   "source": [
    "<p style=\"font-size:125%\"> II. Домашнее задание</p>\n",
    "\n",
    "<p style=\"font-size:125%\"> Изучите структуру базы данных Chinook</p>\n",
    "\n",
    "<img src=\"./Img/chinook_ERD.png\">\n",
    "\n",
    "БД Chinook содержит сведения о работе музыкальнрого Интернет-сервиса, аналогичного AppStore, в котором пользователи могут приобретать трэки, альбомы и составлять плейлисты. БД Chinook состоит из 11 таблиц:\n",
    "\n",
    "- Таблица сотрудников хранит данные сотрудников, такие как идентификатор сотрудника, фамилия, имя и т. д. В ней также есть поле с именем ReportsTo, чтобы указать, кто кому подчиняется.\n",
    "- В таблице клиентов хранятся данные о клиентах.\n",
    "- Таблицы Invoice и InvoiceLine: в этих двух таблицах хранятся данные счетов. В таблице Invoice хранятся данные заголовка счета-фактуры, а в таблице InvoiceLine хранятся данные отдельных позиций счета-фактуры.\n",
    "- В таблице исполнителей хранятся данные об артистах. Это простая таблица, содержащая только идентификатор и имя исполнителя.\n",
    "- В таблице альбомов хранятся данные о названии альбома и имени исполнителя. Каждый альбом принадлежит одному исполнителю. Однако у одного исполнителя может быть несколько альбомов.\n",
    "- В таблице MediaType хранятся типы мультимедиа, такие как аудиофайлы MPEG и аудиофайлы AAC.\n",
    "- В таблице жанров хранятся типы музыки, такие как рок, джаз, металл и т. д.\n",
    "- В таблице треков хранятся данные о песнях. Каждый трек принадлежит одному альбому.\n",
    "- Таблицы Playlist и PlaylistTrack: таблица Playlist хранит данные о плейлистах. Каждый список воспроизведения содержит список треков. Каждый трек может принадлежать нескольким плейлистам. Связь между таблицей списков воспроизведения и таблицей треков - «многие ко многим». Таблица PlaylistTrack используется для отражения этой связи."
   ]
  },
  {
   "cell_type": "markdown",
   "metadata": {},
   "source": [
    "<p style=\"font-size:125%\"> Создайте отображение БД Chinook</p>"
   ]
  },
  {
   "cell_type": "code",
   "execution_count": 12,
   "metadata": {},
   "outputs": [
    {
     "data": {
      "text/plain": [
       "dict_keys(['Album', 'Artist', 'Customer', 'Employee', 'Genre', 'Invoice', 'InvoiceLine', 'Track', 'MediaType', 'Playlist', 'PlaylistTrack'])"
      ]
     },
     "execution_count": 12,
     "metadata": {},
     "output_type": "execute_result"
    }
   ],
   "source": [
    "from sqlalchemy import MetaData, Table, create_engine, select, and_, or_, not_, cast, String\n",
    "from sqlalchemy.sql import func\n",
    "\n",
    "engine = create_engine('sqlite:///Data/Chinook_Sqlite.sqlite')\n",
    "metadata = MetaData()\n",
    "metadata.reflect(bind=engine)\n",
    "conn=engine.connect()\n",
    "metadata.tables.keys()"
   ]
  },
  {
   "cell_type": "code",
   "execution_count": 13,
   "metadata": {},
   "outputs": [],
   "source": [
    "Album=Table(\"Album\", metadata, autoload=True, autoload_with=\"engine\")\n",
    "Customer=Table(\"Customer\", metadata, autoload=True, autoload_with=\"engine\")\n",
    "Track=Table(\"Track\", metadata, autoload=True, autoload_with=\"engine\")\n",
    "Genre=Table(\"Genre\", metadata, autoload=True, autoload_with=\"engine\")\n",
    "Invoice=Table(\"Invoice\", metadata, autoload=True, autoload_with=\"engine\")\n",
    "InvoiceLine=Table(\"InvoiceLine\", metadata, autoload=True, autoload_with=\"engine\")"
   ]
  },
  {
   "cell_type": "markdown",
   "metadata": {},
   "source": [
    "<p style=\"font-size:125%\"> Выполните задания в Jupyter Notebook</p>\n",
    "\n",
    "1. Составьте SQL-запрос, результатом выполнения которого станет список музыкальных жанров трэков, заказанных клиентами из Германии. Результат должен содержать один столбец с названиями жанров без повторов. Подсказка. В этом запросе учавствуют Genre, Track, InvoiceLine, Invoice, Customer. Свяжите эти таблицы по идентификаторам, например:\n",
    "```\n",
    "...\n",
    "s=s.where(Customer.c.CustomerId==Invoice.c.CustomerId)\n",
    "s=s.where(Invoice.c.InvoiceId==InvoiceLine.c.InvoiceId)\n",
    "...\n",
    "```\n",
    "2. Сколько в БД *Chinook* трэков каждого из жанров \"Blues\", \"Bossa Nova\", \"Comedy\", \"Soundtrack\", \"Heavy Metal\", \"Drama\"?\n",
    "3. Постройте столбчатую диаграмму (plt.bar), отражающую результаты задания № 2.\n",
    "4. Сколько в БД *Chinook* трэков каждого из жанров, полученных в результате выполнения запроса № 1? Подсказка. используйте подзапрос. При необходимости повторите методический материал раздела 2.8 к семинарскому занятию от 28 октября.\n",
    "5. Составьте запрос, результатом которого является таблица, содержащая число трэков в каждом альбоме, исключив из результата такие альбомы, в которых меньше двух и больше 50-ти треков. Подсказка. Для фильтрации результатов группировки используйте предложение HAVING. Результат должен содержать название альбома и число трэков в нём.\n",
    "6. Поместите запрос из задания № 5 в таблицу Pandas. Постройте гистограму распределния (plt.hist) числа треков.\n",
    "\n",
    "Результат выполненных заданий в файле Jupyter Notebook направьте преподавателю на почту. Сверху в ячейке Markdown укажите Фамилию, имя, учебную группу."
   ]
  }
 ],
 "metadata": {
  "kernelspec": {
   "display_name": "Python 3",
   "language": "python",
   "name": "python3"
  },
  "language_info": {
   "codemirror_mode": {
    "name": "ipython",
    "version": 3
   },
   "file_extension": ".py",
   "mimetype": "text/x-python",
   "name": "python",
   "nbconvert_exporter": "python",
   "pygments_lexer": "ipython3",
   "version": "3.7.6"
  }
 },
 "nbformat": 4,
 "nbformat_minor": 5
}
